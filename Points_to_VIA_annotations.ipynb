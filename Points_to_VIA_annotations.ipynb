{
  "nbformat": 4,
  "nbformat_minor": 0,
  "metadata": {
    "colab": {
      "name": "Points_to_VIA_annotations",
      "provenance": [],
      "collapsed_sections": [],
      "toc_visible": true,
      "authorship_tag": "ABX9TyPOGWklt4sPtnOmLOMkrepQ"
    },
    "kernelspec": {
      "name": "python3",
      "display_name": "Python 3"
    },
    "language_info": {
      "name": "python"
    }
  },
  "cells": [
    {
      "cell_type": "markdown",
      "metadata": {
        "id": "Xe9-qJJAav6x"
      },
      "source": [
        "#Convert a shapefile of points to bounding boxes"
      ]
    },
    {
      "cell_type": "markdown",
      "metadata": {
        "id": "z5jd5b4zG5Vd"
      },
      "source": [
        "**Before running this script, create a Google Drive folder with a shapefile of your point set (that would be overlaid on imagery). You should also know the approximate length of your target object in meters. The first half of the code only requires an input shapefile of points and outputs a shapefile of boxes. The second half of the code requires a tiling scheme file (`step 1`) and outputs those boxes as VIA annotations on tiles, for training a CNN.**"
      ]
    },
    {
      "cell_type": "markdown",
      "metadata": {
        "id": "TRUtUEXGG5Ve"
      },
      "source": [
        "<a href=\"https://colab.research.google.com/github/gl7176/CNN_tools/blob/main/Points_to_VIA_annotations.ipynb\" target=\"_parent\"><img src=\"https://colab.research.google.com/assets/colab-badge.svg\" alt=\"Open In Colab\"/></a>\n",
        "#####  <center> Be sure to update this hyperlink above if you clone and want to point to a different GitHub </center>"
      ]
    },
    {
      "cell_type": "markdown",
      "metadata": {
        "id": "_0SGgVrGEWZN"
      },
      "source": [
        "### Connect to our Google Drive folder and pull files\n",
        "Note: when you run this it will give you a link that you must click. You must give Google some permissions, then copy a code into a box that comes up in the output section of this code.\n",
        "\n",
        "If customizing this code, you will need to point the `drive_folder` variable to a URL for your shared google drive folder."
      ]
    },
    {
      "cell_type": "code",
      "metadata": {
        "id": "SYEIuuoGpkZm",
        "colab": {
          "base_uri": "https://localhost:8080/"
        },
        "outputId": "993e3a1c-9b5d-4b95-a2d7-154249274693"
      },
      "source": [
        "# set variable to the destination google drive folder you want to pull from\n",
        "drive_folder = 'https://drive.google.com/drive/folders/1Dav7-r1nxziYVE0ouKaG2xHzr-da9-WF'\n",
        "\n",
        "# enter approximate length of your object (here, a seal), in meters\n",
        "# (this variable is used to draw the box around each point)\n",
        "object_length = 2.6\n",
        "\n",
        "!pip install -U -q PyDrive\n",
        "import os, csv\n",
        "from pydrive.auth import GoogleAuth\n",
        "from pydrive.drive import GoogleDrive\n",
        "from google.colab import auth\n",
        "from oauth2client.client import GoogleCredentials\n",
        "\n",
        "# 1. Authenticate and create the PyDrive client.\n",
        "auth.authenticate_user()\n",
        "gauth = GoogleAuth()\n",
        "gauth.credentials = GoogleCredentials.get_application_default()\n",
        "drive = GoogleDrive(gauth)\n",
        "\n",
        "# choose a local (colab) directory to store the data.\n",
        "local_download_path = os.path.expanduser('data')\n",
        "try:\n",
        "  os.makedirs(local_download_path)\n",
        "except: pass\n",
        "\n",
        "# 2. Auto-iterate using the query syntax\n",
        "#    https://developers.google.com/drive/v2/web/search-parameters\n",
        "\n",
        "# this bit points the code to that google drive folder\n",
        "pointer = str(\"'\" + drive_folder.split(\"/\")[-1] + \"'\" + \" in parents\")\n",
        "\n",
        "file_list = drive.ListFile(\n",
        "    {'q': pointer}).GetList()\n",
        "\n",
        "#    this bit pulls key files from the directory specified above\n",
        "#    and checks that all necessary files are present\n",
        "\n",
        "\n",
        "for f in file_list:\n",
        "  # 3. Create & download by id.\n",
        "  fname = os.path.join(local_download_path, f['title'])\n",
        "  f_ = drive.CreateFile({'id': f['id']})\n",
        "  f_.GetContentFile(fname)\n",
        "  print(\"Pulled file: \" + fname)\n",
        "  if fname.endswith(\".shp\"):\n",
        "    ptfile = fname\n",
        "  if fname.endswith(\".json\"):\n",
        "    tiling_scheme_file = fname"
      ],
      "execution_count": 1,
      "outputs": [
        {
          "output_type": "stream",
          "text": [
            "Pulled file: data/tiling_scheme (4).json\n",
            "Pulled file: data/Jbn01_3_03_20_L1A_Seals.shp\n",
            "Pulled file: data/Jbn01_3_03_20_L1A_Seals.cpg\n",
            "Pulled file: data/Jbn01_3_03_20_L1A_Seals.dbf\n",
            "Pulled file: data/Jbn01_3_03_20_L1A_Seals.sbx\n",
            "Pulled file: data/Jbn01_3_03_20_L1A_Seals.shx\n",
            "Pulled file: data/Jbn01_3_03_20_L1A_Seals.sbn\n",
            "Pulled file: data/Jbn01_3_03_20_L1A_Seals.shp.xml\n",
            "Pulled file: data/Jbn01_3_03_20_L1A_Seals.prj\n"
          ],
          "name": "stdout"
        }
      ]
    },
    {
      "cell_type": "code",
      "metadata": {
        "colab": {
          "base_uri": "https://localhost:8080/"
        },
        "id": "OK5W5lw1_tOJ",
        "outputId": "6cfe2b46-4421-48b7-ec86-18bc64169368"
      },
      "source": [
        "!pip install geopandas\n",
        "!pip install affine\n",
        "!pip install rasterio"
      ],
      "execution_count": 2,
      "outputs": [
        {
          "output_type": "stream",
          "text": [
            "Collecting geopandas\n",
            "\u001b[?25l  Downloading https://files.pythonhosted.org/packages/d7/bf/e9cefb69d39155d122b6ddca53893b61535fa6ffdad70bf5ef708977f53f/geopandas-0.9.0-py2.py3-none-any.whl (994kB)\n",
            "\u001b[K     |████████████████████████████████| 1.0MB 28.5MB/s \n",
            "\u001b[?25hCollecting pyproj>=2.2.0\n",
            "\u001b[?25l  Downloading https://files.pythonhosted.org/packages/b1/72/d52e9ca81caef056062d71991b0e9b1d16af042245627c5d0e4916a36c4f/pyproj-3.0.1-cp37-cp37m-manylinux2010_x86_64.whl (6.5MB)\n",
            "\u001b[K     |████████████████████████████████| 6.5MB 38.6MB/s \n",
            "\u001b[?25hRequirement already satisfied: shapely>=1.6 in /usr/local/lib/python3.7/dist-packages (from geopandas) (1.7.1)\n",
            "Collecting fiona>=1.8\n",
            "\u001b[?25l  Downloading https://files.pythonhosted.org/packages/ea/2a/404b22883298a3efe9c6ef8d67acbf2c38443fa366ee9cd4cd34e17626ea/Fiona-1.8.19-cp37-cp37m-manylinux1_x86_64.whl (15.3MB)\n",
            "\u001b[K     |████████████████████████████████| 15.3MB 224kB/s \n",
            "\u001b[?25hRequirement already satisfied: pandas>=0.24.0 in /usr/local/lib/python3.7/dist-packages (from geopandas) (1.1.5)\n",
            "Requirement already satisfied: certifi in /usr/local/lib/python3.7/dist-packages (from pyproj>=2.2.0->geopandas) (2020.12.5)\n",
            "Collecting click-plugins>=1.0\n",
            "  Downloading https://files.pythonhosted.org/packages/e9/da/824b92d9942f4e472702488857914bdd50f73021efea15b4cad9aca8ecef/click_plugins-1.1.1-py2.py3-none-any.whl\n",
            "Requirement already satisfied: six>=1.7 in /usr/local/lib/python3.7/dist-packages (from fiona>=1.8->geopandas) (1.15.0)\n",
            "Collecting cligj>=0.5\n",
            "  Downloading https://files.pythonhosted.org/packages/42/1e/947eadf10d6804bf276eb8a038bd5307996dceaaa41cfd21b7a15ec62f5d/cligj-0.7.1-py3-none-any.whl\n",
            "Requirement already satisfied: attrs>=17 in /usr/local/lib/python3.7/dist-packages (from fiona>=1.8->geopandas) (20.3.0)\n",
            "Requirement already satisfied: click<8,>=4.0 in /usr/local/lib/python3.7/dist-packages (from fiona>=1.8->geopandas) (7.1.2)\n",
            "Collecting munch\n",
            "  Downloading https://files.pythonhosted.org/packages/cc/ab/85d8da5c9a45e072301beb37ad7f833cd344e04c817d97e0cc75681d248f/munch-2.5.0-py2.py3-none-any.whl\n",
            "Requirement already satisfied: python-dateutil>=2.7.3 in /usr/local/lib/python3.7/dist-packages (from pandas>=0.24.0->geopandas) (2.8.1)\n",
            "Requirement already satisfied: numpy>=1.15.4 in /usr/local/lib/python3.7/dist-packages (from pandas>=0.24.0->geopandas) (1.19.5)\n",
            "Requirement already satisfied: pytz>=2017.2 in /usr/local/lib/python3.7/dist-packages (from pandas>=0.24.0->geopandas) (2018.9)\n",
            "Installing collected packages: pyproj, click-plugins, cligj, munch, fiona, geopandas\n",
            "Successfully installed click-plugins-1.1.1 cligj-0.7.1 fiona-1.8.19 geopandas-0.9.0 munch-2.5.0 pyproj-3.0.1\n",
            "Collecting affine\n",
            "  Downloading https://files.pythonhosted.org/packages/ac/a6/1a39a1ede71210e3ddaf623982b06ecfc5c5c03741ae659073159184cd3e/affine-2.3.0-py2.py3-none-any.whl\n",
            "Installing collected packages: affine\n",
            "Successfully installed affine-2.3.0\n",
            "Collecting rasterio\n",
            "\u001b[?25l  Downloading https://files.pythonhosted.org/packages/e1/bf/d3c5e7df3828db144a6797269bf3aec31db96c20f13e75b93179eb059955/rasterio-1.2.3-cp37-cp37m-manylinux1_x86_64.whl (19.1MB)\n",
            "\u001b[K     |████████████████████████████████| 19.1MB 248kB/s \n",
            "\u001b[?25hRequirement already satisfied: click-plugins in /usr/local/lib/python3.7/dist-packages (from rasterio) (1.1.1)\n",
            "Collecting snuggs>=1.4.1\n",
            "  Downloading https://files.pythonhosted.org/packages/cc/0e/d27d6e806d6c0d1a2cfdc5d1f088e42339a0a54a09c3343f7f81ec8947ea/snuggs-1.4.7-py3-none-any.whl\n",
            "Requirement already satisfied: affine in /usr/local/lib/python3.7/dist-packages (from rasterio) (2.3.0)\n",
            "Requirement already satisfied: click<8,>=4.0 in /usr/local/lib/python3.7/dist-packages (from rasterio) (7.1.2)\n",
            "Requirement already satisfied: numpy in /usr/local/lib/python3.7/dist-packages (from rasterio) (1.19.5)\n",
            "Requirement already satisfied: attrs in /usr/local/lib/python3.7/dist-packages (from rasterio) (20.3.0)\n",
            "Requirement already satisfied: cligj>=0.5 in /usr/local/lib/python3.7/dist-packages (from rasterio) (0.7.1)\n",
            "Requirement already satisfied: certifi in /usr/local/lib/python3.7/dist-packages (from rasterio) (2020.12.5)\n",
            "Requirement already satisfied: pyparsing>=2.1.6 in /usr/local/lib/python3.7/dist-packages (from snuggs>=1.4.1->rasterio) (2.4.7)\n",
            "Installing collected packages: snuggs, rasterio\n",
            "Successfully installed rasterio-1.2.3 snuggs-1.4.7\n"
          ],
          "name": "stdout"
        }
      ]
    },
    {
      "cell_type": "markdown",
      "metadata": {
        "id": "JG32SAyENlGr"
      },
      "source": [
        "### Draw boxes around each point"
      ]
    },
    {
      "cell_type": "code",
      "metadata": {
        "id": "MVrDJ_Zj_c4a"
      },
      "source": [
        "box_length = object_length\n",
        "\n",
        "import fiona, ogr, numpy as np\n",
        "from natsort import natsorted\n",
        "\n",
        "box_list = []\n",
        "with fiona.open(ptfile) as c:\n",
        "    ptfile_crs = c.crs\n",
        "    for i, record in enumerate(c):\n",
        "        #import each point\n",
        "        pt = ogr.Geometry(ogr.wkbPoint) \n",
        "        pt.SetPoint_2D(0, record[\"geometry\"][\"coordinates\"][0], record[\"geometry\"][\"coordinates\"][1])\n",
        "        #buffer each point and draw \"envelope\" box around it\n",
        "        buff = pt.Buffer(0.5*box_length)\n",
        "        box = buff.GetEnvelope()\n",
        "        bounding_box = [[box[0], box[2]], [box[1], box[2]], [box[1], box[3]], [box[0], box[3]]]\n",
        "        # assemble shapefile for output\n",
        "        entry = {\"box\":bounding_box}\n",
        "        box_list.append(entry)"
      ],
      "execution_count": 3,
      "outputs": []
    },
    {
      "cell_type": "markdown",
      "metadata": {
        "id": "V9l89wGvsAtc"
      },
      "source": [
        "###Export boxes as shapefile, if wanted"
      ]
    },
    {
      "cell_type": "code",
      "metadata": {
        "id": "S6g-x1Z-lJXu",
        "colab": {
          "base_uri": "https://localhost:8080/",
          "height": 17
        },
        "outputId": "8c73ad51-d197-4f96-a83d-54d45e72ae9e"
      },
      "source": [
        "output_dir = 'boxes_shapefile'\n",
        "if not os.path.exists(output_dir):\n",
        "    os.makedirs(output_dir)\n",
        "\n",
        "import rasterio\n",
        "from collections import OrderedDict\n",
        "# Define your schema as a polygon geom with a couple of fields\n",
        "schema = {\n",
        "    'geometry': 'Polygon'\n",
        "}\n",
        "\n",
        "with fiona.open(output_dir + '/boxed_points.shp',\n",
        "    'w',\n",
        "    driver='ESRI Shapefile',\n",
        "    crs=ptfile_crs,\n",
        "    schema=schema) as c:\n",
        "    \n",
        "    for num, polygon in enumerate(box_list):\n",
        "      record = {\n",
        "            'geometry': {'coordinates': [polygon['box']], 'type': 'Polygon'},\n",
        "            'id': num,\n",
        "            'type': 'Feature'}\n",
        "      c.write(record)\n",
        "\n",
        "# zip up the output directory into an archive for download\n",
        "output_file_name = 'shapefile_outputs'\n",
        "import subprocess\n",
        "subprocess.call(['zip', '-r', output_file_name + '.zip', '/content/' + output_dir])\n",
        "\n",
        "from google.colab import files\n",
        "files.download(output_file_name + \".zip\")"
      ],
      "execution_count": 4,
      "outputs": [
        {
          "output_type": "display_data",
          "data": {
            "application/javascript": [
              "\n",
              "    async function download(id, filename, size) {\n",
              "      if (!google.colab.kernel.accessAllowed) {\n",
              "        return;\n",
              "      }\n",
              "      const div = document.createElement('div');\n",
              "      const label = document.createElement('label');\n",
              "      label.textContent = `Downloading \"${filename}\": `;\n",
              "      div.appendChild(label);\n",
              "      const progress = document.createElement('progress');\n",
              "      progress.max = size;\n",
              "      div.appendChild(progress);\n",
              "      document.body.appendChild(div);\n",
              "\n",
              "      const buffers = [];\n",
              "      let downloaded = 0;\n",
              "\n",
              "      const channel = await google.colab.kernel.comms.open(id);\n",
              "      // Send a message to notify the kernel that we're ready.\n",
              "      channel.send({})\n",
              "\n",
              "      for await (const message of channel.messages) {\n",
              "        // Send a message to notify the kernel that we're ready.\n",
              "        channel.send({})\n",
              "        if (message.buffers) {\n",
              "          for (const buffer of message.buffers) {\n",
              "            buffers.push(buffer);\n",
              "            downloaded += buffer.byteLength;\n",
              "            progress.value = downloaded;\n",
              "          }\n",
              "        }\n",
              "      }\n",
              "      const blob = new Blob(buffers, {type: 'application/binary'});\n",
              "      const a = document.createElement('a');\n",
              "      a.href = window.URL.createObjectURL(blob);\n",
              "      a.download = filename;\n",
              "      div.appendChild(a);\n",
              "      a.click();\n",
              "      div.remove();\n",
              "    }\n",
              "  "
            ],
            "text/plain": [
              "<IPython.core.display.Javascript object>"
            ]
          },
          "metadata": {
            "tags": []
          }
        },
        {
          "output_type": "display_data",
          "data": {
            "application/javascript": [
              "download(\"download_5e8d557b-2d12-4d06-af92-289ab23222f8\", \"shapefile_outputs.zip\", 7778)"
            ],
            "text/plain": [
              "<IPython.core.display.Javascript object>"
            ]
          },
          "metadata": {
            "tags": []
          }
        }
      ]
    },
    {
      "cell_type": "markdown",
      "metadata": {
        "id": "C1C2vzlDNs97"
      },
      "source": [
        "### Import tiling scheme information and set up variables and functions for coordinate conversions"
      ]
    },
    {
      "cell_type": "code",
      "metadata": {
        "id": "XRw48JUAE4qU"
      },
      "source": [
        "import json\n",
        "from affine import Affine\n",
        "\n",
        "with open(tiling_scheme_file) as f:\n",
        "    tiling_scheme = json.load(f)\n",
        "    tile_height = tiling_scheme[\"tile_height\"]\n",
        "    tile_width = tiling_scheme[\"tile_width\"]\n",
        "    tile_overlap = tiling_scheme[\"tile_overlap\"]\n",
        "    proj = tiling_scheme[\"spatial_reference\"]\n",
        "    gt = tiling_scheme[\"transform\"]\n",
        "    img_data = tiling_scheme[\"tile_pointers\"]\n",
        "\n",
        "geotransform = (gt[2], gt[0], gt[1], gt[5], gt[3], gt[4])\n",
        "geotransform = Affine.from_gdal(*geotransform)\n",
        "\n",
        "x_tile_dist = tile_width - tile_overlap\n",
        "y_tile_dist = tile_height - tile_overlap\n",
        "\n",
        "def locate_in_tile(bounding_box):\n",
        "  entry = []\n",
        "  lx_corner, lx_remainder = divmod(bounding_box[3][0], x_tile_dist)\n",
        "  ty_corner, ty_remainder = divmod(bounding_box[3][1], y_tile_dist)\n",
        "  rx_remainder = bounding_box[1][0] - (lx_corner*x_tile_dist)\n",
        "  by_remainder = bounding_box[1][1] - (ty_corner*y_tile_dist)\n",
        "  box_dimension = rx_remainder - lx_remainder\n",
        "  tl_tile_point = \"[{x}, {y}]\".format(x=int(lx_corner*x_tile_dist), y=int(ty_corner*y_tile_dist))\n",
        "  inv_map = {str(v): k for k, v in img_data['image_locations'].items()}\n",
        "  # this variable determines how \"clipped\" an edge box can be before we throw it away\n",
        "  disregard_threshold = 0.5\n",
        "  if rx_remainder < tile_width+disregard_threshold*box_dimension and by_remainder < tile_height+disregard_threshold*box_dimension:\n",
        "    tile_info = inv_map[tl_tile_point], int(lx_corner*x_tile_dist), int(ty_corner*y_tile_dist)\n",
        "    entry.append(tile_info)\n",
        "  # use remainder to determine whether a detection occurs in overlap and needs to be multiple-annotated\n",
        "  new_lx_corner = lx_corner\n",
        "  new_ty_corner = ty_corner\n",
        "  if rx_remainder < tile_overlap+disregard_threshold*box_dimension:\n",
        "    new_lx_corner = lx_corner-1\n",
        "    #print(\"left margin\")\n",
        "  elif lx_remainder > tile_width-(tile_overlap+disregard_threshold*box_dimension):\n",
        "    new_lx_corner = lx_corner+1\n",
        "    #print(\"right margin\")\n",
        "  if by_remainder < tile_overlap+disregard_threshold*box_dimension:\n",
        "    new_ty_corner = ty_corner-1\n",
        "    #print(\"top margin\")\n",
        "  elif ty_remainder > tile_height-(tile_overlap+disregard_threshold*box_dimension):\n",
        "    new_ty_corner = ty_corner+1\n",
        "    #print(\"bottom margin\")\n",
        "  if new_lx_corner != lx_corner:\n",
        "    tl_tile_point = \"[{x}, {y}]\".format(x=int(new_lx_corner*x_tile_dist), y=int(ty_corner*y_tile_dist))\n",
        "    try:\n",
        "      tile_info = inv_map[tl_tile_point], int(new_lx_corner*x_tile_dist), int(ty_corner*y_tile_dist)\n",
        "      entry.append(tile_info)\n",
        "    except:\n",
        "      print(\"adjacent tile does not exist\")\n",
        "  if new_ty_corner != ty_corner:\n",
        "    tl_tile_point = \"[{x}, {y}]\".format(x=int(lx_corner*x_tile_dist), y=int(new_ty_corner*y_tile_dist))\n",
        "    try:\n",
        "      tile_info = inv_map[tl_tile_point], int(lx_corner*x_tile_dist), int(new_ty_corner*y_tile_dist)\n",
        "      entry.append(tile_info)\n",
        "    except:\n",
        "      print(\"adjacent tile does not exist\")\n",
        "  if new_lx_corner != lx_corner and new_ty_corner != ty_corner:\n",
        "    #print(\"double margin\")\n",
        "    tl_tile_point = \"[{x}, {y}]\".format(x=int(new_lx_corner*x_tile_dist), y=int(new_ty_corner*y_tile_dist))\n",
        "    try:\n",
        "      tile_info = inv_map[tl_tile_point], int(new_lx_corner*x_tile_dist), int(new_ty_corner*y_tile_dist)\n",
        "      entry.append(tile_info)\n",
        "    except:\n",
        "      print(\"bishop tile does not exist\")\n",
        "  return entry"
      ],
      "execution_count": 11,
      "outputs": []
    },
    {
      "cell_type": "markdown",
      "metadata": {
        "id": "5epkR8I7IQGR"
      },
      "source": [
        "### Convert boxes from global coordinates to tile coordinates"
      ]
    },
    {
      "cell_type": "code",
      "metadata": {
        "id": "r_lYNTr3HB-x"
      },
      "source": [
        "entry_list = []\n",
        "for value in box_list:\n",
        "  bounding_box = value['box']\n",
        "  # transform box coordinates from global to orthomosaic\n",
        "  new_box = []\n",
        "  for k, point in enumerate(bounding_box):\n",
        "    #https://www.perrygeo.com/python-affine-transforms.html\n",
        "    new_box.append(~geotransform * point)\n",
        "  #transform box coodinates from orthomosaic to tile\n",
        "  for q in locate_in_tile(new_box):\n",
        "    tile_ID, x_offset, y_offset = q\n",
        "    newer_box = []\n",
        "    for point in new_box:\n",
        "      newer_box.append((point[0]-x_offset, point[1]-y_offset))\n",
        "  # reassemble boxes entries with tile name and coordinates\n",
        "    entry = {\"tile_ID\":tile_ID, \"box\": newer_box}\n",
        "    entry_list.append(entry)\n",
        "# sort boxes by tile name\n",
        "def SortFunc(e):\n",
        "  return e['tile_ID']\n",
        "entry_list = natsorted(entry_list, key=SortFunc)"
      ],
      "execution_count": 13,
      "outputs": []
    },
    {
      "cell_type": "markdown",
      "metadata": {
        "id": "yRy7KfQSYDvf"
      },
      "source": [
        "### Output detections in VIA format"
      ]
    },
    {
      "cell_type": "code",
      "metadata": {
        "id": "ROhIQZJ5YDvf",
        "colab": {
          "base_uri": "https://localhost:8080/",
          "height": 1000
        },
        "outputId": "88202070-7e70-49b1-d52f-1627fd07620c"
      },
      "source": [
        "# add class info later, when we have it on-hand to work with\n",
        "# class_category = \"Age Class\"\n",
        "\n",
        "#2015_02_02_hay_island_flight03_s110rgb_jpeg_mosaic_group1---28.png,1613979,\"{}\",4,0,\"{\"\"name\"\":\"\"rect\"\",\"\"x\"\":615,\"\"y\"\":927,\"\"width\"\":66,\"\"height\"\":32}\",\"{\"\"Age Class\"\":\"\"Adult\"\"}\"\n",
        "#2015_02_02_hay_island_flight03_s110rgb_jpeg_mosaic_group1---28.png,1613979,\"{}\",4,1,\"{\"\"name\"\":\"\"rect\"\",\"\"x\"\":959,\"\"y\"\":917,\"\"width\"\":39,\"\"height\"\":26}\",\"{\"\"Age Class\"\":\"\"Pup\"\"}\"\n",
        "new_line = [[\"filename\",\"file_size\",\"file_attributes\",\"region_count\",\"region_id\",\"region_shape_attributes\",\"region_attributes\"]]\n",
        "\n",
        "filename = \"\"\n",
        "for detection in entry_list:\n",
        "    print(detection[\"box\"])\n",
        "    temp = []\n",
        "    if filename != detection[\"tile_ID\"]:\n",
        "      filename = detection[\"tile_ID\"]\n",
        "      count = 0\n",
        "    else:\n",
        "      count += 1\n",
        "    file_size = \"\"\n",
        "    file_attributes = \"{}\"\n",
        "    x1 = detection[\"box\"][3][0]\n",
        "    y1 = detection[\"box\"][3][1]\n",
        "    x2 = detection[\"box\"][1][0]\n",
        "    y2 = detection[\"box\"][1][1]\n",
        "    #print(\"x1={x1}, x2={x2}, y1={y1}, y2={y2}\".format(x1=x1,x2=x2,y1=y1,y2=y2))\n",
        "    region_shape_attributes = {\"name\":\"rect\", \"x\":x1, \"y\":y1, \"width\":x2-x1, \"height\":y2-y1}\n",
        "    region_count = \"\"\n",
        "    region_attributes = {}\n",
        "    region_ID = count\n",
        "    new_line.append([filename, file_size, file_attributes, region_count, region_ID, region_shape_attributes, region_attributes])\n",
        "\n",
        "for k, x in enumerate(new_line):\n",
        "  new_line[k][5],new_line[k][6] = str(x[5]).replace(\"'\",'\"'),str(x[6]).replace(\"'\",'\"')\n",
        "\n",
        "# Set output directory, create it if necessary\n",
        "output_dir = 'via_annotations'\n",
        "if not os.path.exists(output_dir):\n",
        "    os.makedirs(output_dir)\n",
        "\n",
        "# write out new VIA file with additional detections\n",
        "with open(output_dir + '/new_VIA_annotations.csv', 'w', newline='') as fp:\n",
        "    writer = csv.writer(fp)\n",
        "    writer.writerows(new_line)\n",
        "\n",
        "from google.colab import files\n",
        "files.download(output_dir + '/new_VIA_annotations.csv')"
      ],
      "execution_count": 14,
      "outputs": [
        {
          "output_type": "stream",
          "text": [
            "[(1203.156595993787, 1925.40767917037), (1370.7903806455433, 1925.40767917037), (1370.7903806455433, 1757.7738945186138), (1203.156595993787, 1757.7738945186138)]\n",
            "[(716.7321232520044, 1931.0902080833912), (884.3659079037607, 1931.0902080833912), (884.3659079037607, 1763.456423431635), (716.7321232520044, 1763.456423431635)]\n",
            "[(389.41845934838057, 2051.559820473194), (557.0522440038621, 2051.559820473194), (557.0522440038621, 1883.9260358214378), (389.41845934838057, 1883.9260358214378)]\n",
            "[(815.8640089891851, 590.4659841358662), (983.4977936446667, 590.4659841358662), (983.4977936446667, 422.8321994841099), (815.8640089891851, 422.8321994841099)]\n",
            "[(1233.916317526251, 847.1603074073792), (1401.5501021780074, 847.1603074073792), (1401.5501021780074, 679.5265227556229), (1233.916317526251, 679.5265227556229)]\n",
            "[(1373.6850888803601, 1212.0303631424904), (1541.3188735321164, 1212.0303631424904), (1541.3188735321164, 1044.396578490734), (1373.6850888803601, 1044.396578490734)]\n",
            "[(1348.6738350577652, 1409.1778932511806), (1516.3076197095215, 1409.1778932511806), (1516.3076197095215, 1241.5441086292267), (1348.6738350577652, 1241.5441086292267)]\n",
            "[(1197.1350619010627, 1291.4778752923012), (1364.7688465565443, 1291.4778752923012), (1364.7688465565443, 1123.844090640545), (1197.1350619010627, 1123.844090640545)]\n",
            "[(829.3225057050586, 1235.5703667402267), (996.9562903605402, 1235.5703667402267), (996.9562903605402, 1067.9365820884705), (829.3225057050586, 1067.9365820884705)]\n",
            "[(1079.4350439198315, 1535.7054125964642), (1247.068828575313, 1535.7054125964642), (1247.068828575313, 1368.0716279447079), (1079.4350439198315, 1368.0716279447079)]\n",
            "[(1595.4578167684376, 1545.6251700818539), (1763.091601420194, 1545.6251700818539), (1763.091601420194, 1377.9913854599), (1595.4578167684376, 1377.9913854599)]\n",
            "[(1011.7575335837901, 1684.301685333252), (1179.3913182392716, 1684.301685333252), (1179.3913182392716, 1516.667900711298), (1011.7575335837901, 1516.667900711298)]\n",
            "[(607.1637217663229, 1313.5466287136078), (774.7975064180791, 1313.5466287136078), (774.7975064180791, 1145.9128440618515), (607.1637217663229, 1145.9128440618515)]\n",
            "[(1701.4767788760364, 1156.6321888566017), (1869.1105635277927, 1156.6321888566017), (1869.1105635277927, 988.9984042346478), (1701.4767788760364, 988.9984042346478)]\n",
            "[(1316.7013828642666, 1096.261002033949), (1484.3351675197482, 1096.261002033949), (1484.3351675197482, 928.6272173821926), (1316.7013828642666, 928.6272173821926)]\n",
            "[(1836.3597629368305, 854.7762545347214), (2003.9935475885868, 854.7762545347214), (2003.9935475885868, 687.1424698829651), (1836.3597629368305, 687.1424698829651)]\n",
            "[(1738.1656637638807, 1372.6592072248459), (1905.7994484193623, 1372.6592072248459), (1905.7994484193623, 1205.0254225730896), (1738.1656637638807, 1205.0254225730896)]\n",
            "[(1063.172152429819, 1328.2900216579437), (1230.8059370853007, 1328.2900216579437), (1230.8059370853007, 1160.6562370359898), (1063.172152429819, 1160.6562370359898)]\n",
            "[(465.2791930474341, 1430.9937756955624), (632.9129777029157, 1430.9937756955624), (632.9129777029157, 1263.3599910736084), (465.2791930474341, 1263.3599910736084)]\n",
            "[(-0.6402370631694794, 854.7762545347214), (166.9935475885868, 854.7762545347214), (166.9935475885868, 687.1424698829651), (-0.6402370631694794, 687.1424698829651)]\n",
            "[(1538.012064281851, 1431.6154448091984), (1705.6458489336073, 1431.6154448091984), (1705.6458489336073, 1263.981660157442), (1538.012064281851, 1263.981660157442)]\n",
            "[(874.7899115346372, 1734.0680448114872), (1042.4236961863935, 1734.0680448114872), (1042.4236961863935, 1566.4342601895332), (874.7899115346372, 1566.4342601895332)]\n",
            "[(982.7579603940248, 1738.614067941904), (1150.3917450457811, 1738.614067941904), (1150.3917450457811, 1570.9802832901478), (982.7579603940248, 1570.9802832901478)]\n",
            "[(918.3408129550517, 696.938332349062), (1085.974597606808, 696.938332349062), (1085.974597606808, 529.3045476973057), (918.3408129550517, 529.3045476973057)]\n",
            "[(282.67040153965354, 1141.948534488678), (450.3041861914098, 1141.948534488678), (450.3041861914098, 974.314749866724), (282.67040153965354, 974.314749866724)]\n",
            "[(1606.435031760484, 934.394167214632), (1774.0688164122403, 934.394167214632), (1774.0688164122403, 766.7603825926781), (1606.435031760484, 766.7603825926781)]\n",
            "[(1496.336034566164, 2049.5904613137245), (1663.9698192216456, 2049.5904613137245), (1663.9698192216456, 1881.9566766619682), (1496.336034566164, 1881.9566766619682)]\n",
            "[(1709.4308678358793, 2022.9536071419716), (1877.064652491361, 2022.9536071419716), (1877.064652491361, 1855.3198224902153), (1709.4308678358793, 1855.3198224902153)]\n",
            "[(611.9924765042961, 1522.1807489395142), (779.6262611597776, 1522.1807489395142), (779.6262611597776, 1354.5469643175602), (611.9924765042961, 1354.5469643175602)]\n",
            "[(1819.1349376998842, 392.33544397354126), (1986.7687223516405, 392.33544397354126), (1986.7687223516405, 224.70165932178497), (1819.1349376998842, 224.70165932178497)]\n",
            "[(1265.2073330171406, 1963.2785300910473), (1432.8411176726222, 1963.2785300910473), (1432.8411176726222, 1795.644745439291), (1265.2073330171406, 1795.644745439291)]\n",
            "[(1017.9036758393049, 619.1104170382023), (1185.5374604910612, 619.1104170382023), (1185.5374604910612, 451.476632386446), (1017.9036758393049, 451.476632386446)]\n",
            "[(604.7610956281424, 380.53512421250343), (772.3948802836239, 380.53512421250343), (772.3948802836239, 212.90133959054947), (604.7610956281424, 212.90133959054947)]\n",
            "[(234.69208439439535, 1651.81343922019), (402.3258690498769, 1651.81343922019), (402.3258690498769, 1484.1796545684338), (234.69208439439535, 1484.1796545684338)]\n",
            "[(-17.865062300115824, 392.33544397354126), (149.76872235164046, 392.33544397354126), (149.76872235164046, 224.70165932178497), (-17.865062300115824, 224.70165932178497)]\n",
            "[(1800.9586348198354, 2055.699180573225), (1968.5924194715917, 2055.699180573225), (1968.5924194715917, 1888.0653959214687), (1800.9586348198354, 1888.0653959214687)]\n",
            "[(1497.5570525564253, 1759.616694867611), (1665.1908372081816, 1759.616694867611), (1665.1908372081816, 1591.9829102158546), (1497.5570525564253, 1591.9829102158546)]\n",
            "[(1626.3004270233214, 1931.274527490139), (1793.934211678803, 1931.274527490139), (1793.934211678803, 1763.640742868185), (1626.3004270233214, 1763.640742868185)]\n",
            "[(1171.6981160491705, 1989.4636232852936), (1339.331900704652, 1989.4636232852936), (1339.331900704652, 1821.8298386633396), (1171.6981160491705, 1821.8298386633396)]\n",
            "[(1320.0803103521466, 1800.3490619063377), (1487.7140950076282, 1800.3490619063377), (1487.7140950076282, 1632.7152772843838), (1320.0803103521466, 1632.7152772843838)]\n",
            "[(1028.4074676297605, 1787.9838790595531), (1196.0412522815168, 1787.9838790595531), (1196.0412522815168, 1620.3500944375992), (1028.4074676297605, 1620.3500944375992)]\n",
            "[(1203.156595993787, 88.4076791703701), (1370.7903806455433, 88.4076791703701), (1370.7903806455433, -79.22610548138618), (1203.156595993787, -79.22610548138618)]\n",
            "[(716.7321232520044, 94.09020808339119), (884.3659079037607, 94.09020808339119), (884.3659079037607, -73.5435765683651), (716.7321232520044, -73.5435765683651)]\n",
            "[(389.41845934838057, 214.55982047319412), (557.0522440038621, 214.55982047319412), (557.0522440038621, 46.926035821437836), (389.41845934838057, 46.926035821437836)]\n",
            "[(1907.5966090336442, 2026.5051885545254), (2075.2303936854005, 2026.5051885545254), (2075.2303936854005, 1858.8714039325714), (1907.5966090336442, 1858.8714039325714)]\n",
            "[(-36.041365180164576, 2055.699180573225), (131.5924194715917, 2055.699180573225), (131.5924194715917, 1888.0653959214687), (-36.041365180164576, 1888.0653959214687)]\n",
            "[(533.251394867897, 2080.9348764121532), (700.8851795233786, 2080.9348764121532), (700.8851795233786, 1913.301091760397), (533.251394867897, 1913.301091760397)]\n",
            "[(70.5966090336442, 2026.5051885545254), (238.2303936854005, 2026.5051885545254), (238.2303936854005, 1858.8714039325714), (70.5966090336442, 1858.8714039325714)]\n",
            "[(237.52089509367943, 2001.644124686718), (405.154679749161, 2001.644124686718), (405.154679749161, 1834.0103400349617), (237.52089509367943, 1834.0103400349617)]\n",
            "[(94.49051133170724, 1569.175077110529), (262.1242959834635, 1569.175077110529), (262.1242959834635, 1401.5412924587727), (94.49051133170724, 1401.5412924587727)]\n",
            "[(207.65803477168083, 1990.7017721235752), (375.2918194271624, 1990.7017721235752), (375.2918194271624, 1823.0679875016212), (207.65803477168083, 1823.0679875016212)]\n",
            "[(1835.3048834055662, 450.4554274082184), (2002.9386680573225, 450.4554274082184), (2002.9386680573225, 282.8216427862644), (1835.3048834055662, 282.8216427862644)]\n",
            "[(-1.6951165944337845, 450.4554274082184), (165.9386680573225, 450.4554274082184), (165.9386680573225, 282.8216427862644), (-1.6951165944337845, 282.8216427862644)]\n",
            "[(1757.1250585205853, 1607.5092396736145), (1924.7588431723416, 1607.5092396736145), (1924.7588431723416, 1439.8754550516605), (1757.1250585205853, 1439.8754550516605)]\n",
            "[(1645.7474923320115, 1704.1122307777405), (1813.3812769837677, 1704.1122307777405), (1813.3812769837677, 1536.4784461259842), (1645.7474923320115, 1536.4784461259842)]\n",
            "[(195.56612031906843, 1025.6182816624641), (363.19990497455, 1025.6182816624641), (363.19990497455, 857.9844970107079), (195.56612031906843, 857.9844970107079)]\n",
            "[(1639.2321100905538, 1093.3824386894703), (1806.8658947460353, 1093.3824386894703), (1806.8658947460353, 925.7486540675163), (1639.2321100905538, 925.7486540675163)]\n",
            "[(434.96217568963766, 1133.586330473423), (602.595960341394, 1133.586330473423), (602.595960341394, 965.952545851469), (434.96217568963766, 965.952545851469)]\n",
            "[(282.6704015135765, 1350.658933967352), (450.3041861653328, 1350.658933967352), (450.3041861653328, 1183.0251493155956), (282.6704015135765, 1183.0251493155956)]\n",
            "[(182.65789309889078, 1427.9413268268108), (350.29167775437236, 1427.9413268268108), (350.29167775437236, 1260.3075422048569), (182.65789309889078, 1260.3075422048569)]\n",
            "[(591.7999729774892, 1349.5224281847477), (759.4337576292455, 1349.5224281847477), (759.4337576292455, 1181.8886435627937), (591.7999729774892, 1181.8886435627937)]\n",
            "[(842.9677497893572, 1208.5957117676735), (1010.6015344411135, 1208.5957117676735), (1010.6015344411135, 1040.9619271457195), (842.9677497893572, 1040.9619271457195)]\n",
            "[(792.9614955820143, 1300.6526797413826), (960.5952802374959, 1300.6526797413826), (960.5952802374959, 1133.0188951194286), (792.9614955820143, 1133.0188951194286)]\n",
            "[(-79.8749414794147, 1607.5092396736145), (87.75884317234159, 1607.5092396736145), (87.75884317234159, 1439.8754550516605), (-79.8749414794147, 1439.8754550516605)]\n",
            "[(1496.336034566164, 212.59046131372452), (1663.9698192216456, 212.59046131372452), (1663.9698192216456, 44.95667666196823), (1496.336034566164, 44.95667666196823)]\n",
            "[(1709.4308678358793, 185.9536071419716), (1877.064652491361, 185.9536071419716), (1877.064652491361, 18.3198224902153), (1709.4308678358793, 18.3198224902153)]\n",
            "[(1640.2063009515405, 1803.5792164802551), (1807.840085607022, 1803.5792164802551), (1807.840085607022, 1635.9454318583012), (1640.2063009515405, 1635.9454318583012)]\n",
            "[(1622.4171442687511, 938.8886845707893), (1790.0509289205074, 938.8886845707893), (1790.0509289205074, 771.254899919033), (1622.4171442687511, 771.254899919033)]\n",
            "[(1328.487974692136, 497.9613796174526), (1496.1217593438923, 497.9613796174526), (1496.1217593438923, 330.32759499549866), (1328.487974692136, 330.32759499549866)]\n",
            "[(1265.2073330171406, 126.27853009104729), (1432.8411176726222, 126.27853009104729), (1432.8411176726222, -41.355254560709), (1265.2073330171406, -41.355254560709)]\n",
            "[(1730.495276618749, 517.6002000272274), (1898.1290612705052, 517.6002000272274), (1898.1290612705052, 349.9664153754711), (1730.495276618749, 349.9664153754711)]\n",
            "[(1800.9586348198354, 218.69918057322502), (1968.5924194715917, 218.69918057322502), (1968.5924194715917, 51.065395921468735), (1800.9586348198354, 51.065395921468735)]\n",
            "[(1679.3688823468983, 971.9115653038025), (1847.0026669986546, 971.9115653038025), (1847.0026669986546, 804.2777806520462), (1679.3688823468983, 804.2777806520462)]\n",
            "[(1822.2813016436994, 753.1205650568008), (1989.9150862954557, 753.1205650568008), (1989.9150862954557, 585.4867804348469), (1822.2813016436994, 585.4867804348469)]\n",
            "[(1437.7677565738559, 814.1027374267578), (1605.4015412293375, 814.1027374267578), (1605.4015412293375, 646.4689528048038), (1437.7677565738559, 646.4689528048038)]\n",
            "[(1315.8034117668867, 882.9986268281937), (1483.4371964223683, 882.9986268281937), (1483.4371964223683, 715.3648422062397), (1315.8034117668867, 715.3648422062397)]\n",
            "[(1198.9597073979676, 741.0172330439091), (1366.5934920534492, 741.0172330439091), (1366.5934920534492, 573.3834484219551), (1198.9597073979676, 573.3834484219551)]\n",
            "[(957.8531889282167, 468.13946828246117), (1125.486973579973, 468.13946828246117), (1125.486973579973, 300.5056836307049), (957.8531889282167, 300.5056836307049)]\n",
            "[(1138.2393859252334, 535.7842921316624), (1305.8731705769897, 535.7842921316624), (1305.8731705769897, 368.1505075097084), (1138.2393859252334, 368.1505075097084)]\n",
            "[(933.850186906755, 676.1654857695103), (1101.4839715585113, 676.1654857695103), (1101.4839715585113, 508.531701117754), (933.850186906755, 508.531701117754)]\n",
            "[(742.5535344481468, 653.617211163044), (910.1873191036284, 653.617211163044), (910.1873191036284, 485.98342654109), (742.5535344481468, 485.98342654109)]\n",
            "[(440.697599966079, 685.6212138533592), (608.3313846178353, 685.6212138533592), (608.3313846178353, 517.9874292314053), (440.697599966079, 517.9874292314053)]\n",
            "[(664.7256188131869, 815.8193157315254), (832.3594034686685, 815.8193157315254), (832.3594034686685, 648.1855311095715), (664.7256188131869, 648.1855311095715)]\n",
            "[(700.3664400242269, 366.30855044722557), (868.0002246759832, 366.30855044722557), (868.0002246759832, 198.6747658252716), (700.3664400242269, 198.6747658252716)]\n",
            "[(317.7731351070106, 524.1464727818966), (485.4069197587669, 524.1464727818966), (485.4069197587669, 356.5126881599426), (317.7731351070106, 356.5126881599426)]\n",
            "[(1626.3004270233214, 94.27452749013901), (1793.934211678803, 94.27452749013901), (1793.934211678803, -73.35925713181496), (1626.3004270233214, -73.35925713181496)]\n",
            "[(1171.6981160491705, 152.46362328529358), (1339.331900704652, 152.46362328529358), (1339.331900704652, -15.170161336660385), (1171.6981160491705, -15.170161336660385)]\n",
            "[(1653.6585993878543, 423.9095051586628), (1821.292384043336, 423.9095051586628), (1821.292384043336, 256.2757205069065), (1653.6585993878543, 256.2757205069065)]\n",
            "[(1907.5966090336442, 189.50518855452538), (2075.2303936854005, 189.50518855452538), (2075.2303936854005, 21.87140393257141), (1907.5966090336442, 21.87140393257141)]\n",
            "[(856.2556876130402, 392.3481713235378), (1023.8894722685218, 392.3481713235378), (1023.8894722685218, 224.71438670158386), (856.2556876130402, 224.71438670158386)]\n",
            "[(551.5321217514575, 448.27334758639336), (719.165906406939, 448.27334758639336), (719.165906406939, 280.6395629644394), (551.5321217514575, 280.6395629644394)]\n",
            "[(371.96420891582966, 541.4668213427067), (539.5979935713112, 541.4668213427067), (539.5979935713112, 373.8330367207527), (371.96420891582966, 373.8330367207527)]\n",
            "[(294.68181605264544, 439.18130138516426), (462.31560070440173, 439.18130138516426), (462.31560070440173, 271.547516733408), (294.68181605264544, 271.547516733408)]\n",
            "[(113.97739743813872, 566.4699484407902), (281.6111820936203, 566.4699484407902), (281.6111820936203, 398.8361638188362), (113.97739743813872, 398.8361638188362)]\n",
            "[(-36.041365180164576, 218.69918057322502), (131.5924194715917, 218.69918057322502), (131.5924194715917, 51.065395921468735), (-36.041365180164576, 51.065395921468735)]\n",
            "[(158.80118533223867, 866.7347746193409), (326.43496998399496, 866.7347746193409), (326.43496998399496, 699.1009899973869), (158.80118533223867, 699.1009899973869)]\n",
            "[(382.10184048116207, 951.8363272547722), (549.7356251329184, 951.8363272547722), (549.7356251329184, 784.2025426030159), (382.10184048116207, 784.2025426030159)]\n",
            "[(419.19738905504346, 1034.7557887732983), (586.8311737067997, 1034.7557887732983), (586.8311737067997, 867.1220041513443), (419.19738905504346, 867.1220041513443)]\n",
            "[(126.06981894001365, 1015.1169689297676), (293.7036035954952, 1015.1169689297676), (293.7036035954952, 847.4831843078136), (126.06981894001365, 847.4831843078136)]\n",
            "[(-14.718698356300592, 753.1205650568008), (152.9150862954557, 753.1205650568008), (152.9150862954557, 585.4867804348469), (-14.718698356300592, 585.4867804348469)]\n",
            "[(201.4362866282463, 1584.2695567905903), (369.0700712800026, 1584.2695567905903), (369.0700712800026, 1416.635772138834), (201.4362866282463, 1416.635772138834)]\n",
            "[(533.251394867897, 243.93487641215324), (700.8851795233786, 243.93487641215324), (700.8851795233786, 76.30109176039696), (533.251394867897, 76.30109176039696)]\n",
            "[(1638.1386599503458, 276.05369207262993), (1805.7724446058273, 276.05369207262993), (1805.7724446058273, 108.41990745067596), (1638.1386599503458, 108.41990745067596)]\n",
            "[(1413.0968998856843, 882.7367764413357), (1580.7306845374405, 882.7367764413357), (1580.7306845374405, 715.1029917895794), (1413.0968998856843, 715.1029917895794)]\n",
            "[(70.5966090336442, 189.50518855452538), (238.2303936854005, 189.50518855452538), (238.2303936854005, 21.87140393257141), (70.5966090336442, 21.87140393257141)]\n",
            "[(237.52089509367943, 164.644124686718), (405.154679749161, 164.644124686718), (405.154679749161, -2.9896599650382996), (237.52089509367943, -2.9896599650382996)]\n",
            "[(1669.750795468688, 1699.2598850727081), (1837.3845801204443, 1699.2598850727081), (1837.3845801204443, 1531.6261004507542), (1669.750795468688, 1531.6261004507542)]\n",
            "[(1753.9881125614047, 1334.5936996936798), (1921.621897213161, 1334.5936996936798), (1921.621897213161, 1166.9599150717258), (1753.9881125614047, 1166.9599150717258)]\n",
            "[(541.6267481446266, 1849.5849716067314), (709.2605327963829, 1849.5849716067314), (709.2605327963829, 1681.9511869847775), (541.6267481446266, 1681.9511869847775)]\n",
            "[(338.1922139823437, 1772.3025787174702), (505.82599863782525, 1772.3025787174702), (505.82599863782525, 1604.6687940955162), (338.1922139823437, 1604.6687940955162)]\n",
            "[(1222.3937088288367, 1667.7440472245216), (1390.027493480593, 1667.7440472245216), (1390.027493480593, 1500.1102625727654), (1222.3937088288367, 1500.1102625727654)]\n",
            "[(817.7976520620286, 1513.1792614758015), (985.4314367137849, 1513.1792614758015), (985.4314367137849, 1345.5454768538475), (817.7976520620286, 1345.5454768538475)]\n",
            "[(871.213423602283, 1421.1222935020924), (1038.8472082577646, 1421.1222935020924), (1038.8472082577646, 1253.488508850336), (871.213423602283, 1253.488508850336)]\n",
            "[(563.274910196662, 1368.528442889452), (730.9086948484182, 1368.528442889452), (730.9086948484182, 1200.8946582376957), (563.274910196662, 1200.8946582376957)]\n",
            "[(-83.0118874385953, 1334.5936996936798), (84.62189721316099, 1334.5936996936798), (84.62189721316099, 1166.9599150717258), (-83.0118874385953, 1166.9599150717258)]\n",
            "[(978.0104658789933, 1144.2234310507774), (1145.6442505307496, 1144.2234310507774), (1145.6442505307496, 976.5896464288235), (978.0104658789933, 976.5896464288235)]\n",
            "[(207.65803477168083, 153.7017721235752), (375.2918194271624, 153.7017721235752), (375.2918194271624, -13.932012498378754), (207.65803477168083, -13.932012498378754)]\n",
            "[(893.4208506420255, 657.6710005402565), (1061.054635297507, 657.6710005402565), (1061.054635297507, 490.03721591830254), (893.4208506420255, 490.03721591830254)]\n",
            "[(924.6183771304786, 2022.0741014182568), (1092.252161782235, 2022.0741014182568), (1092.252161782235, 1854.4403167963028), (924.6183771304786, 1854.4403167963028)]\n",
            "[(175.04216232523322, 1491.1637410521507), (342.6759469769895, 1491.1637410521507), (342.6759469769895, 1323.5299564301968), (175.04216232523322, 1323.5299564301968)]\n",
            "[(1331.6069831512868, 1658.0991569161415), (1499.2407678067684, 1658.0991569161415), (1499.2407678067684, 1490.4653722643852), (1331.6069831512868, 1490.4653722643852)]\n",
            "[(1236.236975260079, 1757.2035325467587), (1403.8707599155605, 1757.2035325467587), (1403.8707599155605, 1589.5697478950024), (1236.236975260079, 1589.5697478950024)]\n",
            "[(1628.7924394495785, 2008.5791482925415), (1796.42622410506, 2008.5791482925415), (1796.42622410506, 1840.9453636705875), (1628.7924394495785, 1840.9453636705875)]\n",
            "[(1610.0906777344644, 278.0427978336811), (1777.724462389946, 278.0427978336811), (1777.724462389946, 110.40901321172714), (1610.0906777344644, 110.40901321172714)]\n",
            "[(1270.1095506474376, 1892.0643865466118), (1437.7433352991939, 1892.0643865466118), (1437.7433352991939, 1724.4306018948555), (1270.1095506474376, 1724.4306018948555)]\n",
            "[(924.6183771304786, 185.07410141825676), (1092.252161782235, 185.07410141825676), (1092.252161782235, 17.440316796302795), (924.6183771304786, 17.440316796302795)]\n",
            "[(1628.7924394495785, 171.5791482925415), (1796.42622410506, 171.5791482925415), (1796.42622410506, 3.9453636705875397), (1628.7924394495785, 3.9453636705875397)]\n",
            "[(829.655619610101, 1342.9390293955803), (997.2894042618573, 1342.9390293955803), (997.2894042618573, 1175.3052447736263), (829.655619610101, 1175.3052447736263)]\n",
            "[(1055.7066123709083, 1246.5191746652126), (1223.3403970226645, 1246.5191746652126), (1223.3403970226645, 1078.8853900432587), (1055.7066123709083, 1078.8853900432587)]\n",
            "[(1835.39470846951, 2066.443130373955), (2003.0284931249917, 2066.443130373955), (2003.0284931249917, 1898.8093457520008), (1835.39470846951, 1898.8093457520008)]\n",
            "[(1895.6979371383786, 988.2076549530029), (2063.33172179386, 988.2076549530029), (2063.33172179386, 820.573870331049), (1895.6979371383786, 820.573870331049)]\n",
            "[(1255.4493734911084, 1247.313650071621), (1423.0831581428647, 1247.313650071621), (1423.0831581428647, 1079.679865449667), (1255.4493734911084, 1079.679865449667)]\n",
            "[(1003.7932854741812, 1314.9392949044704), (1171.4270701296628, 1314.9392949044704), (1171.4270701296628, 1147.3055102527142), (1003.7932854741812, 1147.3055102527142)]\n",
            "[(885.2884107232094, 1929.5982036590576), (1052.9221953749657, 1929.5982036590576), (1052.9221953749657, 1761.9644190371037), (885.2884107232094, 1761.9644190371037)]\n",
            "[(854.1085540018976, 1777.1633486151695), (1021.7423386536539, 1777.1633486151695), (1021.7423386536539, 1609.5295639932156), (854.1085540018976, 1609.5295639932156)]\n",
            "[(-1.6052915304899216, 2066.443130373955), (166.02849312499166, 2066.443130373955), (166.02849312499166, 1898.8093457520008), (-1.6052915304899216, 1898.8093457520008)]\n",
            "[(58.69793713837862, 988.2076549530029), (226.3317217938602, 988.2076549530029), (226.3317217938602, 820.573870331049), (58.69793713837862, 820.573870331049)]\n",
            "[(815.9016730375588, 1485.5215079784393), (983.5354576893151, 1485.5215079784393), (983.5354576893151, 1317.887723326683), (815.9016730375588, 1317.887723326683)]\n",
            "[(828.1424749083817, 1682.315938025713), (995.776259560138, 1682.315938025713), (995.776259560138, 1514.682153403759), (828.1424749083817, 1514.682153403759)]\n",
            "[(1140.7537226714194, 1427.1422990560532), (1308.387507326901, 1427.1422990560532), (1308.387507326901, 1259.5085144340992), (1140.7537226714194, 1259.5085144340992)]\n",
            "[(743.9899927228689, 1647.5355827212334), (911.6237773783505, 1647.5355827212334), (911.6237773783505, 1479.9017980992794), (743.9899927228689, 1479.9017980992794)]\n",
            "[(895.057965811342, 1846.1543630063534), (1062.6917504630983, 1846.1543630063534), (1062.6917504630983, 1678.5205783843994), (895.057965811342, 1678.5205783843994)]\n",
            "[(329.9865057952702, 1992.714215874672), (497.6202904470265, 1992.714215874672), (497.6202904470265, 1825.080431252718), (329.9865057952702, 1825.080431252718)]\n",
            "[(488.41046503558755, 1776.4759522676468), (656.0442496910691, 1776.4759522676468), (656.0442496910691, 1608.8421676456928), (488.41046503558755, 1608.8421676456928)]\n",
            "[(1530.6404624953866, 1833.9428552985191), (1698.274247147143, 1833.9428552985191), (1698.274247147143, 1666.3090706765652), (1530.6404624953866, 1666.3090706765652)]\n",
            "[(1112.4591832123697, 668.5940901041031), (1280.0929678678513, 668.5940901041031), (1280.0929678678513, 500.9603054821491), (1112.4591832123697, 500.9603054821491)]\n",
            "[(1835.39470846951, 229.44313037395477), (2003.0284931249917, 229.44313037395477), (2003.0284931249917, 61.80934575200081), (1835.39470846951, 61.80934575200081)]\n",
            "[(1021.2540052272379, 785.4839085638523), (1188.8877898789942, 785.4839085638523), (1188.8877898789942, 617.8501239418983), (1021.2540052272379, 617.8501239418983)]\n",
            "[(447.8910844363272, 858.2369075715542), (615.5248690880835, 858.2369075715542), (615.5248690880835, 690.6031229496002), (447.8910844363272, 690.6031229496002)]\n",
            "[(987.4890521876514, 849.5758362710476), (1155.122836843133, 849.5758362710476), (1155.122836843133, 681.9420516192913), (987.4890521876514, 681.9420516192913)]\n",
            "[(902.610553342849, 374.94912841916084), (1070.2443379983306, 374.94912841916084), (1070.2443379983306, 207.31534376740456), (902.610553342849, 207.31534376740456)]\n",
            "[(885.2884107232094, 92.59820365905762), (1052.9221953749657, 92.59820365905762), (1052.9221953749657, -75.03558096289635), (885.2884107232094, -75.03558096289635)]\n",
            "[(-1.6052915304899216, 229.44313037395477), (166.02849312499166, 229.44313037395477), (166.02849312499166, 61.80934575200081), (-1.6052915304899216, 61.80934575200081)]\n",
            "[(976.6697671934962, 1670.4398590624332), (1144.3035518489778, 1670.4398590624332), (1144.3035518489778, 1502.8060744404793), (976.6697671934962, 1502.8060744404793)]\n",
            "[(1032.068695411086, 1613.2245725691319), (1199.7024800665677, 1613.2245725691319), (1199.7024800665677, 1445.5907879173756), (1032.068695411086, 1445.5907879173756)]\n",
            "[(395.4615381285548, 1857.8079592883587), (563.0953227840364, 1857.8079592883587), (563.0953227840364, 1690.1741746664047), (395.4615381285548, 1690.1741746664047)]\n",
            "[(896.3103816471994, 806.0270766317844), (1063.9441662989557, 806.0270766317844), (1063.9441662989557, 638.3932920098305), (896.3103816471994, 638.3932920098305)]\n",
            "[(1398.1671702675521, 1739.4899357259274), (1565.8009549193084, 1739.4899357259274), (1565.8009549193084, 1571.8561511039734), (1398.1671702675521, 1571.8561511039734)]\n",
            "[(329.9865057952702, 155.71421587467194), (497.6202904470265, 155.71421587467194), (497.6202904470265, -11.919568747282028), (329.9865057952702, -11.919568747282028)]\n",
            "[(1369.636937648058, 781.6516179740429), (1537.2707223035395, 781.6516179740429), (1537.2707223035395, 614.0178333222866), (1369.636937648058, 614.0178333222866)]\n",
            "[(398.3583121262491, 1805.4373633265495), (565.9920967780054, 1805.4373633265495), (565.9920967780054, 1637.8035786747932), (398.3583121262491, 1637.8035786747932)]\n",
            "[(1679.9426373504102, 1505.5786025822163), (1847.5764220058918, 1505.5786025822163), (1847.5764220058918, 1337.9448179602623), (1679.9426373504102, 1337.9448179602623)]\n",
            "[(464.87684605643153, 1341.5032676756382), (632.5106307119131, 1341.5032676756382), (632.5106307119131, 1173.8694830536842), (464.87684605643153, 1173.8694830536842)]\n",
            "[(242.04480336606503, 967.8992955982685), (409.6785880178213, 967.8992955982685), (409.6785880178213, 800.2655109763145), (242.04480336606503, 800.2655109763145)]\n",
            "[(1546.615207746625, 549.8458465635777), (1714.2489924021065, 549.8458465635777), (1714.2489924021065, 382.21206191182137), (1546.615207746625, 382.21206191182137)]\n",
            "[(1696.5617714077234, 577.3731201291084), (1864.1955560594797, 577.3731201291084), (1864.1955560594797, 409.73933550715446), (1696.5617714077234, 409.73933550715446)]\n",
            "[(524.2887314110994, 255.8806068301201), (691.9225160628557, 255.8806068301201), (691.9225160628557, 88.24682220816612), (524.2887314110994, 88.24682220816612)]\n",
            "[(669.4726792238653, 1061.3368279635906), (837.1064638793468, 1061.3368279635906), (837.1064638793468, 893.7030433416367), (669.4726792238653, 893.7030433416367)]\n",
            "[(1568.207918714732, 631.8812101781368), (1735.8417033664882, 631.8812101781368), (1735.8417033664882, 464.24742555618286), (1568.207918714732, 464.24742555618286)]\n",
            "[(916.3196283504367, 536.54013723135), (1083.953413002193, 536.54013723135), (1083.953413002193, 368.90635257959366), (916.3196283504367, 368.90635257959366)]\n"
          ],
          "name": "stdout"
        },
        {
          "output_type": "display_data",
          "data": {
            "application/javascript": [
              "\n",
              "    async function download(id, filename, size) {\n",
              "      if (!google.colab.kernel.accessAllowed) {\n",
              "        return;\n",
              "      }\n",
              "      const div = document.createElement('div');\n",
              "      const label = document.createElement('label');\n",
              "      label.textContent = `Downloading \"${filename}\": `;\n",
              "      div.appendChild(label);\n",
              "      const progress = document.createElement('progress');\n",
              "      progress.max = size;\n",
              "      div.appendChild(progress);\n",
              "      document.body.appendChild(div);\n",
              "\n",
              "      const buffers = [];\n",
              "      let downloaded = 0;\n",
              "\n",
              "      const channel = await google.colab.kernel.comms.open(id);\n",
              "      // Send a message to notify the kernel that we're ready.\n",
              "      channel.send({})\n",
              "\n",
              "      for await (const message of channel.messages) {\n",
              "        // Send a message to notify the kernel that we're ready.\n",
              "        channel.send({})\n",
              "        if (message.buffers) {\n",
              "          for (const buffer of message.buffers) {\n",
              "            buffers.push(buffer);\n",
              "            downloaded += buffer.byteLength;\n",
              "            progress.value = downloaded;\n",
              "          }\n",
              "        }\n",
              "      }\n",
              "      const blob = new Blob(buffers, {type: 'application/binary'});\n",
              "      const a = document.createElement('a');\n",
              "      a.href = window.URL.createObjectURL(blob);\n",
              "      a.download = filename;\n",
              "      div.appendChild(a);\n",
              "      a.click();\n",
              "      div.remove();\n",
              "    }\n",
              "  "
            ],
            "text/plain": [
              "<IPython.core.display.Javascript object>"
            ]
          },
          "metadata": {
            "tags": []
          }
        },
        {
          "output_type": "display_data",
          "data": {
            "application/javascript": [
              "download(\"download_2703b13c-1744-427d-8da4-e9203cc701c0\", \"new_VIA_annotations.csv\", 28387)"
            ],
            "text/plain": [
              "<IPython.core.display.Javascript object>"
            ]
          },
          "metadata": {
            "tags": []
          }
        }
      ]
    }
  ]
}