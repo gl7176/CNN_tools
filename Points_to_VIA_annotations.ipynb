{
  "nbformat": 4,
  "nbformat_minor": 0,
  "metadata": {
    "colab": {
      "name": "Points_to_VIA_annotations",
      "provenance": [],
      "collapsed_sections": [],
      "toc_visible": true,
      "authorship_tag": "ABX9TyM+HfF1VSMQUnkCC9H5ImU9",
      "include_colab_link": true
    },
    "kernelspec": {
      "name": "python3",
      "display_name": "Python 3"
    },
    "language_info": {
      "name": "python"
    }
  },
  "cells": [
    {
      "cell_type": "markdown",
      "metadata": {
        "id": "view-in-github",
        "colab_type": "text"
      },
      "source": [
        "<a href=\"https://colab.research.google.com/github/gl7176/CNN_tools/blob/main/Points_to_VIA_annotations.ipynb\" target=\"_parent\"><img src=\"https://colab.research.google.com/assets/colab-badge.svg\" alt=\"Open In Colab\"/></a>"
      ]
    },
    {
      "cell_type": "markdown",
      "metadata": {
        "id": "Xe9-qJJAav6x"
      },
      "source": [
        "#Convert a shapefile of points to bounding boxes"
      ]
    },
    {
      "cell_type": "markdown",
      "metadata": {
        "id": "z5jd5b4zG5Vd"
      },
      "source": [
        "**Before running this script, create a Google Drive folder with a shapefile of your point set (that would be overlaid on imagery). You should also know the approximate pixel-length of your target object (here, a large seal) in your mosaic: this will become the `overlap` variable during tiling. The script is expecting a GeoTIFF file, so code tweaking is necessary if your starting image/mosaic is not in that format.**"
      ]
    },
    {
      "cell_type": "markdown",
      "metadata": {
        "id": "TRUtUEXGG5Ve"
      },
      "source": [
        "<a href=\"https://colab.research.google.com/github/gl7176/GreySealCNN/blob/master/1_orthomosaic_to_tiles.ipynb\" target=\"_parent\"><img src=\"https://colab.research.google.com/assets/colab-badge.svg\" alt=\"Open In Colab\"/></a>\n",
        "#####  <center> Be sure to update this hyperlink above if you clone and want to point to a different GitHub </center>"
      ]
    },
    {
      "cell_type": "markdown",
      "metadata": {
        "id": "_0SGgVrGEWZN"
      },
      "source": [
        "### Connect to our Google Drive folder and pull files\n",
        "Note: when you run this it will give you a link that you must click. You must give Google some permissions, then copy a code into a box that comes up in the output section of this code.\n",
        "\n",
        "If customizing this code, you will need to point the `drive_folder` variable to a URL for your shared google drive folder."
      ]
    },
    {
      "cell_type": "code",
      "metadata": {
        "id": "SYEIuuoGpkZm",
        "colab": {
          "base_uri": "https://localhost:8080/"
        },
        "outputId": "245bba1b-e982-4597-b4b3-a25c021759e2"
      },
      "source": [
        "# set variable to the destination google drive folder you want to pull from\n",
        "drive_folder = 'https://drive.google.com/drive/folders/1Dav7-r1nxziYVE0ouKaG2xHzr-da9-WF'\n",
        "\n",
        "# enter approximate length of your object (here, a seal), in meters\n",
        "# (this variable is used to draw the box around each point)\n",
        "object_length = 2.6\n",
        "\n",
        "!pip install -U -q PyDrive\n",
        "import os, csv\n",
        "from pydrive.auth import GoogleAuth\n",
        "from pydrive.drive import GoogleDrive\n",
        "from google.colab import auth\n",
        "from oauth2client.client import GoogleCredentials\n",
        "\n",
        "# 1. Authenticate and create the PyDrive client.\n",
        "auth.authenticate_user()\n",
        "gauth = GoogleAuth()\n",
        "gauth.credentials = GoogleCredentials.get_application_default()\n",
        "drive = GoogleDrive(gauth)\n",
        "\n",
        "# choose a local (colab) directory to store the data.\n",
        "local_download_path = os.path.expanduser('data')\n",
        "try:\n",
        "  os.makedirs(local_download_path)\n",
        "except: pass\n",
        "\n",
        "# 2. Auto-iterate using the query syntax\n",
        "#    https://developers.google.com/drive/v2/web/search-parameters\n",
        "\n",
        "# this bit points the code to that google drive folder\n",
        "pointer = str(\"'\" + drive_folder.split(\"/\")[-1] + \"'\" + \" in parents\")\n",
        "\n",
        "file_list = drive.ListFile(\n",
        "    {'q': pointer}).GetList()\n",
        "\n",
        "#    this bit pulls key files from the directory specified above\n",
        "#    and checks that all necessary files are present\n",
        "\n",
        "\n",
        "for f in file_list:\n",
        "  # 3. Create & download by id.\n",
        "  fname = os.path.join(local_download_path, f['title'])\n",
        "  f_ = drive.CreateFile({'id': f['id']})\n",
        "  f_.GetContentFile(fname)\n",
        "  print(\"Pulled file: \" + fname)\n",
        "  if fname.endswith(\".shp\"):\n",
        "    ptfile = fname\n",
        "  if fname.endswith(\".json\"):\n",
        "    tiling_scheme_file = fname"
      ],
      "execution_count": 1,
      "outputs": [
        {
          "output_type": "stream",
          "text": [
            "Pulled file: data/tiling_scheme (4).json\n",
            "Pulled file: data/Jbn01_3_03_20_L1A_Seals.shp\n",
            "Pulled file: data/Jbn01_3_03_20_L1A_Seals.cpg\n",
            "Pulled file: data/Jbn01_3_03_20_L1A_Seals.dbf\n",
            "Pulled file: data/Jbn01_3_03_20_L1A_Seals.sbx\n",
            "Pulled file: data/Jbn01_3_03_20_L1A_Seals.shx\n",
            "Pulled file: data/Jbn01_3_03_20_L1A_Seals.sbn\n",
            "Pulled file: data/Jbn01_3_03_20_L1A_Seals.shp.xml\n",
            "Pulled file: data/Jbn01_3_03_20_L1A_Seals.prj\n"
          ],
          "name": "stdout"
        }
      ]
    },
    {
      "cell_type": "code",
      "metadata": {
        "colab": {
          "base_uri": "https://localhost:8080/"
        },
        "id": "OK5W5lw1_tOJ",
        "outputId": "0dcc04f4-ea80-4ef7-ed85-83493a816cef"
      },
      "source": [
        "!pip install geopandas\n",
        "!pip install affine\n",
        "!pip install rasterio"
      ],
      "execution_count": 2,
      "outputs": [
        {
          "output_type": "stream",
          "text": [
            "Collecting geopandas\n",
            "\u001b[?25l  Downloading https://files.pythonhosted.org/packages/d7/bf/e9cefb69d39155d122b6ddca53893b61535fa6ffdad70bf5ef708977f53f/geopandas-0.9.0-py2.py3-none-any.whl (994kB)\n",
            "\u001b[K     |████████████████████████████████| 1.0MB 4.3MB/s \n",
            "\u001b[?25hRequirement already satisfied: pandas>=0.24.0 in /usr/local/lib/python3.7/dist-packages (from geopandas) (1.1.5)\n",
            "Collecting fiona>=1.8\n",
            "\u001b[?25l  Downloading https://files.pythonhosted.org/packages/ea/2a/404b22883298a3efe9c6ef8d67acbf2c38443fa366ee9cd4cd34e17626ea/Fiona-1.8.19-cp37-cp37m-manylinux1_x86_64.whl (15.3MB)\n",
            "\u001b[K     |████████████████████████████████| 15.3MB 237kB/s \n",
            "\u001b[?25hRequirement already satisfied: shapely>=1.6 in /usr/local/lib/python3.7/dist-packages (from geopandas) (1.7.1)\n",
            "Collecting pyproj>=2.2.0\n",
            "\u001b[?25l  Downloading https://files.pythonhosted.org/packages/b1/72/d52e9ca81caef056062d71991b0e9b1d16af042245627c5d0e4916a36c4f/pyproj-3.0.1-cp37-cp37m-manylinux2010_x86_64.whl (6.5MB)\n",
            "\u001b[K     |████████████████████████████████| 6.5MB 23.8MB/s \n",
            "\u001b[?25hRequirement already satisfied: numpy>=1.15.4 in /usr/local/lib/python3.7/dist-packages (from pandas>=0.24.0->geopandas) (1.19.5)\n",
            "Requirement already satisfied: pytz>=2017.2 in /usr/local/lib/python3.7/dist-packages (from pandas>=0.24.0->geopandas) (2018.9)\n",
            "Requirement already satisfied: python-dateutil>=2.7.3 in /usr/local/lib/python3.7/dist-packages (from pandas>=0.24.0->geopandas) (2.8.1)\n",
            "Requirement already satisfied: certifi in /usr/local/lib/python3.7/dist-packages (from fiona>=1.8->geopandas) (2020.12.5)\n",
            "Collecting click-plugins>=1.0\n",
            "  Downloading https://files.pythonhosted.org/packages/e9/da/824b92d9942f4e472702488857914bdd50f73021efea15b4cad9aca8ecef/click_plugins-1.1.1-py2.py3-none-any.whl\n",
            "Requirement already satisfied: click<8,>=4.0 in /usr/local/lib/python3.7/dist-packages (from fiona>=1.8->geopandas) (7.1.2)\n",
            "Requirement already satisfied: attrs>=17 in /usr/local/lib/python3.7/dist-packages (from fiona>=1.8->geopandas) (20.3.0)\n",
            "Collecting cligj>=0.5\n",
            "  Downloading https://files.pythonhosted.org/packages/42/1e/947eadf10d6804bf276eb8a038bd5307996dceaaa41cfd21b7a15ec62f5d/cligj-0.7.1-py3-none-any.whl\n",
            "Collecting munch\n",
            "  Downloading https://files.pythonhosted.org/packages/cc/ab/85d8da5c9a45e072301beb37ad7f833cd344e04c817d97e0cc75681d248f/munch-2.5.0-py2.py3-none-any.whl\n",
            "Requirement already satisfied: six>=1.7 in /usr/local/lib/python3.7/dist-packages (from fiona>=1.8->geopandas) (1.15.0)\n",
            "Installing collected packages: click-plugins, cligj, munch, fiona, pyproj, geopandas\n",
            "Successfully installed click-plugins-1.1.1 cligj-0.7.1 fiona-1.8.19 geopandas-0.9.0 munch-2.5.0 pyproj-3.0.1\n",
            "Collecting affine\n",
            "  Downloading https://files.pythonhosted.org/packages/ac/a6/1a39a1ede71210e3ddaf623982b06ecfc5c5c03741ae659073159184cd3e/affine-2.3.0-py2.py3-none-any.whl\n",
            "Installing collected packages: affine\n",
            "Successfully installed affine-2.3.0\n",
            "Collecting rasterio\n",
            "\u001b[?25l  Downloading https://files.pythonhosted.org/packages/e1/bf/d3c5e7df3828db144a6797269bf3aec31db96c20f13e75b93179eb059955/rasterio-1.2.3-cp37-cp37m-manylinux1_x86_64.whl (19.1MB)\n",
            "\u001b[K     |████████████████████████████████| 19.1MB 1.3MB/s \n",
            "\u001b[?25hRequirement already satisfied: attrs in /usr/local/lib/python3.7/dist-packages (from rasterio) (20.3.0)\n",
            "Collecting snuggs>=1.4.1\n",
            "  Downloading https://files.pythonhosted.org/packages/cc/0e/d27d6e806d6c0d1a2cfdc5d1f088e42339a0a54a09c3343f7f81ec8947ea/snuggs-1.4.7-py3-none-any.whl\n",
            "Requirement already satisfied: cligj>=0.5 in /usr/local/lib/python3.7/dist-packages (from rasterio) (0.7.1)\n",
            "Requirement already satisfied: click<8,>=4.0 in /usr/local/lib/python3.7/dist-packages (from rasterio) (7.1.2)\n",
            "Requirement already satisfied: certifi in /usr/local/lib/python3.7/dist-packages (from rasterio) (2020.12.5)\n",
            "Requirement already satisfied: affine in /usr/local/lib/python3.7/dist-packages (from rasterio) (2.3.0)\n",
            "Requirement already satisfied: click-plugins in /usr/local/lib/python3.7/dist-packages (from rasterio) (1.1.1)\n",
            "Requirement already satisfied: numpy in /usr/local/lib/python3.7/dist-packages (from rasterio) (1.19.5)\n",
            "Requirement already satisfied: pyparsing>=2.1.6 in /usr/local/lib/python3.7/dist-packages (from snuggs>=1.4.1->rasterio) (2.4.7)\n",
            "Installing collected packages: snuggs, rasterio\n",
            "Successfully installed rasterio-1.2.3 snuggs-1.4.7\n"
          ],
          "name": "stdout"
        }
      ]
    },
    {
      "cell_type": "markdown",
      "metadata": {
        "id": "JG32SAyENlGr"
      },
      "source": [
        "### Draw boxes around each point"
      ]
    },
    {
      "cell_type": "code",
      "metadata": {
        "id": "MVrDJ_Zj_c4a"
      },
      "source": [
        "box_length = object_length\n",
        "\n",
        "import fiona, ogr, numpy as np\n",
        "from natsort import natsorted\n",
        "\n",
        "box_list = []\n",
        "with fiona.open(ptfile) as c:\n",
        "    ptfile_crs = c.crs\n",
        "    for i, record in enumerate(c):\n",
        "        #import each point\n",
        "        pt = ogr.Geometry(ogr.wkbPoint) \n",
        "        pt.SetPoint_2D(0, record[\"geometry\"][\"coordinates\"][0], record[\"geometry\"][\"coordinates\"][1])\n",
        "        #buffer each point and draw \"envelope\" box around it\n",
        "        buff = pt.Buffer(0.5*box_length)\n",
        "        box = buff.GetEnvelope()\n",
        "        bounding_box = [[box[0], box[2]], [box[1], box[2]], [box[1], box[3]], [box[0], box[3]]]\n",
        "        # assemble shapefile for output\n",
        "        entry = {\"box\":bounding_box}\n",
        "        box_list.append(entry)    \n"
      ],
      "execution_count": 68,
      "outputs": []
    },
    {
      "cell_type": "markdown",
      "metadata": {
        "id": "V9l89wGvsAtc"
      },
      "source": [
        "###Export boxes as shapefile, if wanted"
      ]
    },
    {
      "cell_type": "code",
      "metadata": {
        "id": "S6g-x1Z-lJXu"
      },
      "source": [
        "output_dir = 'boxes_shapefile'\n",
        "if not os.path.exists(output_dir):\n",
        "    os.makedirs(output_dir)\n",
        "\n",
        "import rasterio\n",
        "from collections import OrderedDict\n",
        "# Define your schema as a polygon geom with a couple of fields\n",
        "schema = {\n",
        "    'geometry': 'Polygon'\n",
        "}\n",
        "\n",
        "with fiona.open(output_dir + '/boxed_points.shp',\n",
        "    'w',\n",
        "    driver='ESRI Shapefile',\n",
        "    crs=ptfile_crs,\n",
        "    schema=schema) as c:\n",
        "    \n",
        "    for num, polygon in enumerate(box_list):\n",
        "      record = {\n",
        "            'geometry': {'coordinates': [polygon['box']], 'type': 'Polygon'},\n",
        "            'id': num,\n",
        "            'type': 'Feature'}\n",
        "      c.write(record)\n",
        "\n",
        "# zip up the output directory into an archive for download\n",
        "output_file_name = 'shapefile_outputs'\n",
        "import subprocess\n",
        "subprocess.call(['zip', '-r', output_file_name + '.zip', '/content/' + output_dir])\n",
        "\n",
        "from google.colab import files\n",
        "files.download(output_file_name + \".zip\")"
      ],
      "execution_count": null,
      "outputs": []
    },
    {
      "cell_type": "markdown",
      "metadata": {
        "id": "C1C2vzlDNs97"
      },
      "source": [
        "### Import tiling scheme information and set up variables and functions for coordinate conversions"
      ]
    },
    {
      "cell_type": "code",
      "metadata": {
        "id": "XRw48JUAE4qU"
      },
      "source": [
        "import json\n",
        "from affine import Affine\n",
        "\n",
        "with open(tiling_scheme_file) as f:\n",
        "    tiling_scheme = json.load(f)\n",
        "    tile_height = tiling_scheme[\"tile_height\"]\n",
        "    tile_width = tiling_scheme[\"tile_width\"]\n",
        "    tile_overlap = tiling_scheme[\"tile_overlap\"]\n",
        "    proj = tiling_scheme[\"spatial_reference\"]\n",
        "    gt = tiling_scheme[\"transform\"]\n",
        "    img_data = tiling_scheme[\"tile_pointers\"]\n",
        "\n",
        "geotransform = (gt[2], gt[0], gt[1], gt[5], gt[3], gt[4])\n",
        "geotransform = Affine.from_gdal(*geotransform)\n",
        "\n",
        "x_tile_dist = tile_width - tile_overlap\n",
        "y_tile_dist = tile_height - tile_overlap\n",
        "\n",
        "def locate_in_tile(bounding_box):\n",
        "  entry = []\n",
        "  lx_corner, lx_remainder = divmod(bounding_box[3][0], x_tile_dist)\n",
        "  ty_corner, ty_remainder = divmod(bounding_box[3][1], y_tile_dist)\n",
        "  rx_remainder = bounding_box[1][0] - (lx_corner*x_tile_dist)\n",
        "  by_remainder = bounding_box[1][1] - (ty_corner*y_tile_dist)\n",
        "  box_dimension = rx_remainder - lx_remainder\n",
        "  tl_tile_point = \"[{x}, {y}]\".format(x=int(lx_corner*x_tile_dist), y=int(ty_corner*y_tile_dist))\n",
        "  inv_map = {str(v): k for k, v in img_data['image_locations'].items()}\n",
        "  if rx_remainder < tile_width+0.5*box_dimension and by_remainder < tile_height+0.5*box_dimension:\n",
        "    tile_info = inv_map[tl_tile_point], int(lx_corner*x_tile_dist), int(ty_corner*y_tile_dist)\n",
        "    entry.append(tile_info)\n",
        "  #use remainder to determine whether a detection occurs in overlap and needs to be multiple-annotated\n",
        "  disregard_threshold = 0.5\n",
        "  # the above variable determines how \"clipped\" an edge box can be before we throw it away\n",
        "  for i in [0,1]:\n",
        "    if rx_remainder < tile_overlap+disregard_threshold*box_dimension:\n",
        "      lx_corner = lx_corner-1\n",
        "      tl_tile_point = \"[{x}, {y}]\".format(x=int(lx_corner*x_tile_dist), y=int(ty_corner*y_tile_dist))\n",
        "      try:\n",
        "        tile_info = inv_map[tl_tile_point], int(lx_corner*x_tile_dist), int(ty_corner*y_tile_dist)\n",
        "        entry.append(tile_info)\n",
        "      except:\n",
        "        print(\"adjacent tile does not exist\")\n",
        "      #print(\"left margin\")\n",
        "      rx_remainder = rx_remainder+tile_overlap\n",
        "    elif lx_remainder > tile_width-(tile_overlap+disregard_threshold*box_dimension):\n",
        "      lx_corner = lx_corner+1\n",
        "      tl_tile_point = \"[{x}, {y}]\".format(x=int(lx_corner*x_tile_dist), y=int(ty_corner*y_tile_dist))\n",
        "      try:\n",
        "        tile_info = inv_map[tl_tile_point], int(lx_corner*x_tile_dist), int(ty_corner*y_tile_dist)\n",
        "        entry.append(tile_info)\n",
        "      except:\n",
        "        print(\"adjacent tile does not exist\")\n",
        "      #print(\"right margin\")\n",
        "      lx_remainder = lx_remainder-tile_overlap\n",
        "    elif by_remainder < tile_overlap+disregard_threshold*box_dimension:\n",
        "      ty_corner = ty_corner-1\n",
        "      tl_tile_point = \"[{x}, {y}]\".format(x=int(lx_corner*x_tile_dist), y=int(ty_corner*y_tile_dist))\n",
        "      try:\n",
        "        tile_info = inv_map[tl_tile_point], int(lx_corner*x_tile_dist), int(ty_corner*y_tile_dist)\n",
        "        entry.append(tile_info)\n",
        "      except:\n",
        "        print(\"adjacent tile does not exist\")\n",
        "      #print(\"top margin\")\n",
        "      by_remainder = by_remainder + tile_overlap\n",
        "    elif ty_remainder > tile_height-(tile_overlap+disregard_threshold*box_dimension):\n",
        "      ty_corner = ty_corner+1\n",
        "      tl_tile_point = \"[{x}, {y}]\".format(x=int(lx_corner*x_tile_dist), y=int(ty_corner*y_tile_dist))\n",
        "      try:\n",
        "        tile_info = inv_map[tl_tile_point], int(lx_corner*x_tile_dist), int(ty_corner*y_tile_dist)\n",
        "        entry.append(tile_info)\n",
        "      except:\n",
        "        print(\"adjacent tile does not exist\")\n",
        "      #print(\"bottom margin\")\n",
        "      ty_remainder = ty_remainder - tile_overlap\n",
        "  return entry"
      ],
      "execution_count": 57,
      "outputs": []
    },
    {
      "cell_type": "markdown",
      "metadata": {
        "id": "5epkR8I7IQGR"
      },
      "source": [
        "### Convert boxes from global coordinates to tile coordinates"
      ]
    },
    {
      "cell_type": "code",
      "metadata": {
        "id": "r_lYNTr3HB-x"
      },
      "source": [
        "entry_list = []\n",
        "for value in box_list:\n",
        "  bounding_box = value['box']\n",
        "  # transform box coordinates from global to orthomosaic\n",
        "  new_box = []\n",
        "  for k, point in enumerate(bounding_box):\n",
        "    #https://www.perrygeo.com/python-affine-transforms.html\n",
        "    new_box.append(~geotransform * point)\n",
        "  #transform box coodinates from orthomosaic to tile\n",
        "  for k, q in enumerate(locate_in_tile(new_box)):\n",
        "    tile_ID, x_offset, y_offset = locate_in_tile(new_box)[k]\n",
        "    newer_box = []\n",
        "    for point in new_box:\n",
        "      newer_box.append((point[0]-x_offset, point[1]-y_offset))\n",
        "  # reassemble boxes entries with tile name and coordinates\n",
        "    entry = {\"tile_ID\":tile_ID, \"box\": newer_box}\n",
        "    entry_list.append(entry)\n",
        "# sort boxes by tile name\n",
        "def SortFunc(e):\n",
        "  return e['tile_ID']\n",
        "entry_list = natsorted(entry_list, key=SortFunc)"
      ],
      "execution_count": 71,
      "outputs": []
    },
    {
      "cell_type": "markdown",
      "metadata": {
        "id": "yRy7KfQSYDvf"
      },
      "source": [
        "### Output detections in VIA format"
      ]
    },
    {
      "cell_type": "code",
      "metadata": {
        "id": "ROhIQZJ5YDvf",
        "colab": {
          "base_uri": "https://localhost:8080/",
          "height": 17
        },
        "outputId": "f7a2733c-fddc-42aa-83c5-e13b441d2640"
      },
      "source": [
        "# add class info later, when we have it on-hand to work with\n",
        "# class_category = \"Age Class\"\n",
        "\n",
        "#2015_02_02_hay_island_flight03_s110rgb_jpeg_mosaic_group1---28.png,1613979,\"{}\",4,0,\"{\"\"name\"\":\"\"rect\"\",\"\"x\"\":615,\"\"y\"\":927,\"\"width\"\":66,\"\"height\"\":32}\",\"{\"\"Age Class\"\":\"\"Adult\"\"}\"\n",
        "#2015_02_02_hay_island_flight03_s110rgb_jpeg_mosaic_group1---28.png,1613979,\"{}\",4,1,\"{\"\"name\"\":\"\"rect\"\",\"\"x\"\":959,\"\"y\"\":917,\"\"width\"\":39,\"\"height\"\":26}\",\"{\"\"Age Class\"\":\"\"Pup\"\"}\"\n",
        "new_line = [[\"filename\",\"file_size\",\"file_attributes\",\"region_count\",\"region_id\",\"region_shape_attributes\",\"region_attributes\"]]\n",
        "\n",
        "filename = \"\"\n",
        "for detection in entry_list:\n",
        "    temp = []\n",
        "    if filename != detection[\"tile_ID\"]:\n",
        "      filename = detection[\"tile_ID\"]\n",
        "      count = 0\n",
        "    else:\n",
        "      count += 1\n",
        "    file_size = \"\"\n",
        "    file_attributes = \"{}\"\n",
        "    x1 = detection[\"box\"][1][0]\n",
        "    y1 = detection[\"box\"][1][1]\n",
        "    x2 = detection[\"box\"][3][0]\n",
        "    y2 = detection[\"box\"][3][1]\n",
        "    #print(\"x1={x1}, x2={x2}, y1={y1}, y2={y2}\".format(x1=x1,x2=x2,y1=y1,y2=y2))\n",
        "    region_shape_attributes = {\"name\":\"rect\", \"x\":x1, \"y\":y1, \"width\":x2-x1, \"height\":y2-y1}\n",
        "    region_count = \"\"\n",
        "    region_attributes = {}\n",
        "    region_ID = count\n",
        "    new_line.append([filename, file_size, file_attributes, region_count, region_ID, region_shape_attributes, region_attributes])\n",
        "\n",
        "for k, x in enumerate(new_line):\n",
        "  new_line[k][5],new_line[k][6] = str(x[5]).replace(\"'\",'\"'),str(x[6]).replace(\"'\",'\"')\n",
        "\n",
        "# Set output directory, create it if necessary\n",
        "output_dir = 'via_annotations'\n",
        "if not os.path.exists(output_dir):\n",
        "    os.makedirs(output_dir)\n",
        "\n",
        "# write out new VIA file with additional detections\n",
        "with open(output_dir + '/new_VIA_annotations.csv', 'w', newline='') as fp:\n",
        "    writer = csv.writer(fp)\n",
        "    writer.writerows(new_line)\n",
        "\n",
        "from google.colab import files\n",
        "files.download(output_dir + '/new_VIA_annotations.csv')"
      ],
      "execution_count": 72,
      "outputs": [
        {
          "output_type": "display_data",
          "data": {
            "application/javascript": [
              "\n",
              "    async function download(id, filename, size) {\n",
              "      if (!google.colab.kernel.accessAllowed) {\n",
              "        return;\n",
              "      }\n",
              "      const div = document.createElement('div');\n",
              "      const label = document.createElement('label');\n",
              "      label.textContent = `Downloading \"${filename}\": `;\n",
              "      div.appendChild(label);\n",
              "      const progress = document.createElement('progress');\n",
              "      progress.max = size;\n",
              "      div.appendChild(progress);\n",
              "      document.body.appendChild(div);\n",
              "\n",
              "      const buffers = [];\n",
              "      let downloaded = 0;\n",
              "\n",
              "      const channel = await google.colab.kernel.comms.open(id);\n",
              "      // Send a message to notify the kernel that we're ready.\n",
              "      channel.send({})\n",
              "\n",
              "      for await (const message of channel.messages) {\n",
              "        // Send a message to notify the kernel that we're ready.\n",
              "        channel.send({})\n",
              "        if (message.buffers) {\n",
              "          for (const buffer of message.buffers) {\n",
              "            buffers.push(buffer);\n",
              "            downloaded += buffer.byteLength;\n",
              "            progress.value = downloaded;\n",
              "          }\n",
              "        }\n",
              "      }\n",
              "      const blob = new Blob(buffers, {type: 'application/binary'});\n",
              "      const a = document.createElement('a');\n",
              "      a.href = window.URL.createObjectURL(blob);\n",
              "      a.download = filename;\n",
              "      div.appendChild(a);\n",
              "      a.click();\n",
              "      div.remove();\n",
              "    }\n",
              "  "
            ],
            "text/plain": [
              "<IPython.core.display.Javascript object>"
            ]
          },
          "metadata": {
            "tags": []
          }
        },
        {
          "output_type": "display_data",
          "data": {
            "application/javascript": [
              "download(\"download_38704842-6fc9-4dca-8400-5947a420d1ef\", \"new_VIA_annotations.csv\", 28210)"
            ],
            "text/plain": [
              "<IPython.core.display.Javascript object>"
            ]
          },
          "metadata": {
            "tags": []
          }
        }
      ]
    }
  ]
}