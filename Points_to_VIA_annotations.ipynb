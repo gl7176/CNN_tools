{
  "nbformat": 4,
  "nbformat_minor": 0,
  "metadata": {
    "colab": {
      "name": "Points_to_VIA_annotations",
      "provenance": [],
      "toc_visible": true,
      "authorship_tag": "ABX9TyO+cqJlPw6xk00eWUjzhUyx",
      "include_colab_link": true
    },
    "kernelspec": {
      "name": "python3",
      "display_name": "Python 3"
    },
    "language_info": {
      "name": "python"
    }
  },
  "cells": [
    {
      "cell_type": "markdown",
      "metadata": {
        "id": "view-in-github",
        "colab_type": "text"
      },
      "source": [
        "<a href=\"https://colab.research.google.com/github/gl7176/CNN_tools/blob/main/Points_to_VIA_annotations.ipynb\" target=\"_parent\"><img src=\"https://colab.research.google.com/assets/colab-badge.svg\" alt=\"Open In Colab\"/></a>"
      ]
    },
    {
      "cell_type": "markdown",
      "metadata": {
        "id": "_0SGgVrGEWZN"
      },
      "source": [
        "### Connect to our Google Drive folder and pull files\n",
        "Note: when you run this it will give you a link that you must click. You must give Google some permissions, then copy a code into a box that comes up in the output section of this code.\n",
        "\n",
        "If customizing this code, you will need to point the `drive_folder` variable to a URL for your shared google drive folder."
      ]
    },
    {
      "cell_type": "code",
      "metadata": {
        "id": "SYEIuuoGpkZm",
        "colab": {
          "base_uri": "https://localhost:8080/"
        },
        "outputId": "bd76ba33-310a-4c44-8785-0fecdae1ead3"
      },
      "source": [
        "# set variable to the destination google drive folder you want to pull from\n",
        "drive_folder = 'https://drive.google.com/drive/folders/1Dav7-r1nxziYVE0ouKaG2xHzr-da9-WF'\n",
        "\n",
        "# enter approximate seal length, in meters\n",
        "seal_length = 2.6\n",
        "\n",
        "!pip install -U -q PyDrive\n",
        "import os, csv\n",
        "from pydrive.auth import GoogleAuth\n",
        "from pydrive.drive import GoogleDrive\n",
        "from google.colab import auth\n",
        "from oauth2client.client import GoogleCredentials\n",
        "\n",
        "# 1. Authenticate and create the PyDrive client.\n",
        "auth.authenticate_user()\n",
        "gauth = GoogleAuth()\n",
        "gauth.credentials = GoogleCredentials.get_application_default()\n",
        "drive = GoogleDrive(gauth)\n",
        "\n",
        "# choose a local (colab) directory to store the data.\n",
        "local_download_path = os.path.expanduser('data')\n",
        "try:\n",
        "  os.makedirs(local_download_path)\n",
        "except: pass\n",
        "\n",
        "# 2. Auto-iterate using the query syntax\n",
        "#    https://developers.google.com/drive/v2/web/search-parameters\n",
        "\n",
        "# this bit points the code to that google drive folder\n",
        "pointer = str(\"'\" + drive_folder.split(\"/\")[-1] + \"'\" + \" in parents\")\n",
        "\n",
        "file_list = drive.ListFile(\n",
        "    {'q': pointer}).GetList()\n",
        "\n",
        "#    this bit pulls key files from the directory specified above\n",
        "#    and checks that all necessary files are present\n",
        "\n",
        "\n",
        "for f in file_list:\n",
        "  # 3. Create & download by id.\n",
        "  fname = os.path.join(local_download_path, f['title'])\n",
        "  f_ = drive.CreateFile({'id': f['id']})\n",
        "  f_.GetContentFile(fname)\n",
        "  print(\"Pulled file: \" + fname)\n",
        "  if fname.endswith(\".shp\"):\n",
        "    ptfile = fname\n",
        "  if fname.endswith(\".json\"):\n",
        "    tiling_scheme_file = fname"
      ],
      "execution_count": 1,
      "outputs": [
        {
          "output_type": "stream",
          "text": [
            "Pulled file: data/tiling_scheme (4).json\n",
            "Pulled file: data/Jbn01_3_03_20_L1A_Seals.shp\n",
            "Pulled file: data/Jbn01_3_03_20_L1A_Seals.cpg\n",
            "Pulled file: data/Jbn01_3_03_20_L1A_Seals.dbf\n",
            "Pulled file: data/Jbn01_3_03_20_L1A_Seals.sbx\n",
            "Pulled file: data/Jbn01_3_03_20_L1A_Seals.shx\n",
            "Pulled file: data/Jbn01_3_03_20_L1A_Seals.sbn\n",
            "Pulled file: data/Jbn01_3_03_20_L1A_Seals.shp.xml\n",
            "Pulled file: data/Jbn01_3_03_20_L1A_Seals.prj\n"
          ],
          "name": "stdout"
        }
      ]
    },
    {
      "cell_type": "code",
      "metadata": {
        "colab": {
          "base_uri": "https://localhost:8080/"
        },
        "id": "OK5W5lw1_tOJ",
        "outputId": "795d8de1-cc6e-4c27-827d-8c0dbe8be36b"
      },
      "source": [
        "!pip install geopandas\n",
        "!pip install affine"
      ],
      "execution_count": 2,
      "outputs": [
        {
          "output_type": "stream",
          "text": [
            "Collecting geopandas\n",
            "\u001b[?25l  Downloading https://files.pythonhosted.org/packages/d7/bf/e9cefb69d39155d122b6ddca53893b61535fa6ffdad70bf5ef708977f53f/geopandas-0.9.0-py2.py3-none-any.whl (994kB)\n",
            "\u001b[K     |████████████████████████████████| 1.0MB 7.7MB/s \n",
            "\u001b[?25hCollecting fiona>=1.8\n",
            "\u001b[?25l  Downloading https://files.pythonhosted.org/packages/ea/2a/404b22883298a3efe9c6ef8d67acbf2c38443fa366ee9cd4cd34e17626ea/Fiona-1.8.19-cp37-cp37m-manylinux1_x86_64.whl (15.3MB)\n",
            "\u001b[K     |████████████████████████████████| 15.3MB 311kB/s \n",
            "\u001b[?25hRequirement already satisfied: pandas>=0.24.0 in /usr/local/lib/python3.7/dist-packages (from geopandas) (1.1.5)\n",
            "Collecting pyproj>=2.2.0\n",
            "\u001b[?25l  Downloading https://files.pythonhosted.org/packages/b1/72/d52e9ca81caef056062d71991b0e9b1d16af042245627c5d0e4916a36c4f/pyproj-3.0.1-cp37-cp37m-manylinux2010_x86_64.whl (6.5MB)\n",
            "\u001b[K     |████████████████████████████████| 6.5MB 40.3MB/s \n",
            "\u001b[?25hRequirement already satisfied: shapely>=1.6 in /usr/local/lib/python3.7/dist-packages (from geopandas) (1.7.1)\n",
            "Collecting cligj>=0.5\n",
            "  Downloading https://files.pythonhosted.org/packages/42/1e/947eadf10d6804bf276eb8a038bd5307996dceaaa41cfd21b7a15ec62f5d/cligj-0.7.1-py3-none-any.whl\n",
            "Requirement already satisfied: certifi in /usr/local/lib/python3.7/dist-packages (from fiona>=1.8->geopandas) (2020.12.5)\n",
            "Requirement already satisfied: six>=1.7 in /usr/local/lib/python3.7/dist-packages (from fiona>=1.8->geopandas) (1.15.0)\n",
            "Requirement already satisfied: click<8,>=4.0 in /usr/local/lib/python3.7/dist-packages (from fiona>=1.8->geopandas) (7.1.2)\n",
            "Collecting munch\n",
            "  Downloading https://files.pythonhosted.org/packages/cc/ab/85d8da5c9a45e072301beb37ad7f833cd344e04c817d97e0cc75681d248f/munch-2.5.0-py2.py3-none-any.whl\n",
            "Collecting click-plugins>=1.0\n",
            "  Downloading https://files.pythonhosted.org/packages/e9/da/824b92d9942f4e472702488857914bdd50f73021efea15b4cad9aca8ecef/click_plugins-1.1.1-py2.py3-none-any.whl\n",
            "Requirement already satisfied: attrs>=17 in /usr/local/lib/python3.7/dist-packages (from fiona>=1.8->geopandas) (20.3.0)\n",
            "Requirement already satisfied: pytz>=2017.2 in /usr/local/lib/python3.7/dist-packages (from pandas>=0.24.0->geopandas) (2018.9)\n",
            "Requirement already satisfied: python-dateutil>=2.7.3 in /usr/local/lib/python3.7/dist-packages (from pandas>=0.24.0->geopandas) (2.8.1)\n",
            "Requirement already satisfied: numpy>=1.15.4 in /usr/local/lib/python3.7/dist-packages (from pandas>=0.24.0->geopandas) (1.19.5)\n",
            "Installing collected packages: cligj, munch, click-plugins, fiona, pyproj, geopandas\n",
            "Successfully installed click-plugins-1.1.1 cligj-0.7.1 fiona-1.8.19 geopandas-0.9.0 munch-2.5.0 pyproj-3.0.1\n",
            "Collecting affine\n",
            "  Downloading https://files.pythonhosted.org/packages/ac/a6/1a39a1ede71210e3ddaf623982b06ecfc5c5c03741ae659073159184cd3e/affine-2.3.0-py2.py3-none-any.whl\n",
            "Installing collected packages: affine\n",
            "Successfully installed affine-2.3.0\n"
          ],
          "name": "stdout"
        }
      ]
    },
    {
      "cell_type": "markdown",
      "metadata": {
        "id": "C1C2vzlDNs97"
      },
      "source": [
        "### Import tiling scheme information and set up variables and functions for coordinate conversions"
      ]
    },
    {
      "cell_type": "code",
      "metadata": {
        "id": "XRw48JUAE4qU"
      },
      "source": [
        "import json\n",
        "\n",
        "box_length = seal_length\n",
        "\n",
        "with open(tiling_scheme_file) as f:\n",
        "    tiling_scheme = json.load(f)\n",
        "    tile_height = tiling_scheme[\"tile_height\"]\n",
        "    tile_width = tiling_scheme[\"tile_width\"]\n",
        "    tile_overlap = tiling_scheme[\"tile_overlap\"]\n",
        "    proj = tiling_scheme[\"spatial_reference\"]\n",
        "    gt = tiling_scheme[\"transform\"]\n",
        "    img_data = tiling_scheme[\"tile_pointers\"]\n",
        "\n",
        "from affine import Affine\n",
        "\n",
        "geotransform = (gt[2], gt[0], gt[1], gt[5], gt[3], gt[4])\n",
        "geotransform = Affine.from_gdal(*geotransform)\n",
        "\n",
        "x_tile_dist = tile_width - tile_overlap\n",
        "y_tile_dist = tile_height - tile_overlap\n",
        "\n",
        "def locate_in_tile(bounding_box):\n",
        "  entry = []\n",
        "  lx_corner, lx_remainder = divmod(bounding_box[2][0], x_tile_dist)\n",
        "  ty_corner, ty_remainder = divmod(bounding_box[2][1], y_tile_dist)\n",
        "  rx_remainder = bounding_box[1][0] - (lx_corner*x_tile_dist)\n",
        "  by_remainder = bounding_box[1][1] - (ty_corner*y_tile_dist)\n",
        "  box_dimension = rx_remainder - lx_remainder\n",
        "  tl_tile_point = \"[{x}, {y}]\".format(x=int(lx_corner*x_tile_dist), y=int(ty_corner*y_tile_dist))\n",
        "  inv_map = {str(v): k for k, v in img_data['image_locations'].items()}\n",
        "  if rx_remainder < tile_width+0.5*box_dimension and by_remainder < tile_height+0.5*box_dimension:\n",
        "    tile_info = inv_map[tl_tile_point], int(lx_corner*x_tile_dist), int(ty_corner*y_tile_dist)\n",
        "    entry.append(tile_info)\n",
        "  #use remainder to determine whether a detection occurs in overlap and needs to be multiple-annotated\n",
        "  disregard_threshold = 0.5\n",
        "  # the above variable determines how \"clipped\" an edge box can be before we throw it away\n",
        "  for i in [0,1]:\n",
        "    if rx_remainder < tile_overlap+disregard_threshold*box_dimension:\n",
        "      lx_corner = lx_corner-1\n",
        "      tl_tile_point = \"[{x}, {y}]\".format(x=int(lx_corner*x_tile_dist), y=int(ty_corner*y_tile_dist))\n",
        "      try:\n",
        "        tile_info = inv_map[tl_tile_point], int(lx_corner*x_tile_dist), int(ty_corner*y_tile_dist)\n",
        "        entry.append(tile_info)\n",
        "      except:\n",
        "        print(\"adjacent tile does not exist\")\n",
        "      #print(\"left margin\")\n",
        "      rx_remainder = rx_remainder+tile_overlap\n",
        "    elif lx_remainder > tile_width-(tile_overlap+disregard_threshold*box_dimension):\n",
        "      lx_corner = lx_corner+1\n",
        "      tl_tile_point = \"[{x}, {y}]\".format(x=int(lx_corner*x_tile_dist), y=int(ty_corner*y_tile_dist))\n",
        "      try:\n",
        "        tile_info = inv_map[tl_tile_point], int(lx_corner*x_tile_dist), int(ty_corner*y_tile_dist)\n",
        "        entry.append(tile_info)\n",
        "      except:\n",
        "        print(\"adjacent tile does not exist\")\n",
        "      #print(\"right margin\")\n",
        "      lx_remainder = lx_remainder-tile_overlap\n",
        "    elif by_remainder < tile_overlap+disregard_threshold*box_dimension:\n",
        "      ty_corner = ty_corner-1\n",
        "      tl_tile_point = \"[{x}, {y}]\".format(x=int(lx_corner*x_tile_dist), y=int(ty_corner*y_tile_dist))\n",
        "      try:\n",
        "        tile_info = inv_map[tl_tile_point], int(lx_corner*x_tile_dist), int(ty_corner*y_tile_dist)\n",
        "        entry.append(tile_info)\n",
        "      except:\n",
        "        print(\"adjacent tile does not exist\")\n",
        "      #print(\"top margin\")\n",
        "      by_remainder = by_remainder + tile_overlap\n",
        "    elif ty_remainder > tile_height-(tile_overlap+disregard_threshold*box_dimension):\n",
        "      ty_corner = ty_corner+1\n",
        "      tl_tile_point = \"[{x}, {y}]\".format(x=int(lx_corner*x_tile_dist), y=int(ty_corner*y_tile_dist))\n",
        "      try:\n",
        "        tile_info = inv_map[tl_tile_point], int(lx_corner*x_tile_dist), int(ty_corner*y_tile_dist)\n",
        "        entry.append(tile_info)\n",
        "      except:\n",
        "        print(\"adjacent tile does not exist\")\n",
        "      #print(\"bottom margin\")\n",
        "      ty_remainder = ty_remainder - tile_overlap\n",
        "  return entry"
      ],
      "execution_count": 106,
      "outputs": []
    },
    {
      "cell_type": "code",
      "metadata": {
        "id": "kJCZ50VTh84_"
      },
      "source": [
        ""
      ],
      "execution_count": 106,
      "outputs": []
    },
    {
      "cell_type": "markdown",
      "metadata": {
        "id": "JG32SAyENlGr"
      },
      "source": [
        "### Convert boxes from UTM coordinates to tile-pixel coordinates"
      ]
    },
    {
      "cell_type": "code",
      "metadata": {
        "id": "MVrDJ_Zj_c4a"
      },
      "source": [
        "import fiona, ogr, numpy as np\n",
        "from natsort import natsorted\n",
        "\n",
        "box_list = []\n",
        "with fiona.open(ptfile) as c:\n",
        "    for i, record in enumerate(c):\n",
        "        #import each point\n",
        "        pt = ogr.Geometry(ogr.wkbPoint) \n",
        "        pt.SetPoint_2D(0, record[\"geometry\"][\"coordinates\"][0], record[\"geometry\"][\"coordinates\"][1])\n",
        "        #buffer each point and draw \"envelope\" box around it\n",
        "        buff = pt.Buffer(0.5*box_length)\n",
        "        box = buff.GetEnvelope()\n",
        "        bounding_box = [[box[0], box[2]], [box[1], box[2]], [box[0], box[3]], [box[1], box[3]]]        \n",
        "        # transform box coordinates from global to orthomosaic\n",
        "        for k, point in enumerate(bounding_box):\n",
        "          #https://www.perrygeo.com/python-affine-transforms.html\n",
        "          bounding_box[k] = ~geotransform * point    \n",
        "        #transform box coodinates from orthomosaic to tile\n",
        "        for k, q in enumerate(locate_in_tile(bounding_box)):\n",
        "          tile_ID, x_offset, y_offset = locate_in_tile(bounding_box)[k]\n",
        "          new_box = []\n",
        "          for point in bounding_box:\n",
        "            new_box.append((point[0]-x_offset, point[1]-y_offset))\n",
        "            #print(k, bounding_box[k])\n",
        "        # reassemble boxes entries with tile name and coordinates\n",
        "          entry = {\"tile_ID\":tile_ID, \"box\": new_box}\n",
        "          box_list.append(entry)\n",
        "# sort boxes by tile name\n",
        "def SortFunc(e):\n",
        "  return e['tile_ID']\n",
        "box_list = natsorted(box_list, key=SortFunc)"
      ],
      "execution_count": 107,
      "outputs": []
    },
    {
      "cell_type": "markdown",
      "metadata": {
        "id": "yRy7KfQSYDvf"
      },
      "source": [
        "### Output detections in VIA format"
      ]
    },
    {
      "cell_type": "code",
      "metadata": {
        "id": "ROhIQZJ5YDvf"
      },
      "source": [
        "# add class info later, when we have it on-hand to work with\n",
        "# class_category = \"Age Class\"\n",
        "\n",
        "#2015_02_02_hay_island_flight03_s110rgb_jpeg_mosaic_group1---28.png,1613979,\"{}\",4,0,\"{\"\"name\"\":\"\"rect\"\",\"\"x\"\":615,\"\"y\"\":927,\"\"width\"\":66,\"\"height\"\":32}\",\"{\"\"Age Class\"\":\"\"Adult\"\"}\"\n",
        "#2015_02_02_hay_island_flight03_s110rgb_jpeg_mosaic_group1---28.png,1613979,\"{}\",4,1,\"{\"\"name\"\":\"\"rect\"\",\"\"x\"\":959,\"\"y\"\":917,\"\"width\"\":39,\"\"height\"\":26}\",\"{\"\"Age Class\"\":\"\"Pup\"\"}\"\n",
        "new_line = [[\"filename\",\"file_size\",\"file_attributes\",\"region_count\",\"region_id\",\"region_shape_attributes\",\"region_attributes\"]]\n",
        "\n",
        "filename = \"\"\n",
        "for detection in box_list:\n",
        "    temp = []\n",
        "    if filename != detection[\"tile_ID\"]:\n",
        "      filename = detection[\"tile_ID\"]\n",
        "      count = 0\n",
        "    else:\n",
        "      count += 1\n",
        "    file_size = \"\"\n",
        "    file_attributes = \"{}\"\n",
        "    x1 = detection[\"box\"][2][0]\n",
        "    y1 = detection[\"box\"][2][1]\n",
        "    x2 = detection[\"box\"][1][0]\n",
        "    y2 = detection[\"box\"][1][1]\n",
        "    #print(\"x1={x1}, x2={x2}, y1={y1}, y2={y2}\".format(x1=x1,x2=x2,y1=y1,y2=y2))\n",
        "    region_shape_attributes = {\"name\":\"rect\", \"x\":x1, \"y\":y1, \"width\":x2-x1, \"height\":y2-y1}\n",
        "    region_count = \"\"\n",
        "    region_attributes = {}\n",
        "    region_ID = count\n",
        "    new_line.append([filename, file_size, file_attributes, region_count, region_ID, region_shape_attributes, region_attributes])\n",
        "\n",
        "for k, x in enumerate(new_line):\n",
        "  new_line[k][5],new_line[k][6] = str(x[5]).replace(\"'\",'\"'),str(x[6]).replace(\"'\",'\"')"
      ],
      "execution_count": 108,
      "outputs": []
    },
    {
      "cell_type": "code",
      "metadata": {
        "id": "58eH_C620aBh",
        "colab": {
          "base_uri": "https://localhost:8080/",
          "height": 17
        },
        "outputId": "b0a929fd-1349-4d06-85bc-780c568ace4a"
      },
      "source": [
        "# Set output directory, create it if necessary\n",
        "output_dir = 'detection_outputs'\n",
        "if not os.path.exists(output_dir):\n",
        "    os.makedirs(output_dir)\n",
        "\n",
        "# write out new VIA file with additional detections\n",
        "with open(output_dir + '/new_VIA_annotations.csv', 'w', newline='') as fp:\n",
        "    writer = csv.writer(fp)\n",
        "    writer.writerows(new_line)\n",
        "\n",
        "from google.colab import files\n",
        "files.download(output_dir + '/new_VIA_annotations.csv')"
      ],
      "execution_count": 109,
      "outputs": [
        {
          "output_type": "display_data",
          "data": {
            "application/javascript": [
              "\n",
              "    async function download(id, filename, size) {\n",
              "      if (!google.colab.kernel.accessAllowed) {\n",
              "        return;\n",
              "      }\n",
              "      const div = document.createElement('div');\n",
              "      const label = document.createElement('label');\n",
              "      label.textContent = `Downloading \"${filename}\": `;\n",
              "      div.appendChild(label);\n",
              "      const progress = document.createElement('progress');\n",
              "      progress.max = size;\n",
              "      div.appendChild(progress);\n",
              "      document.body.appendChild(div);\n",
              "\n",
              "      const buffers = [];\n",
              "      let downloaded = 0;\n",
              "\n",
              "      const channel = await google.colab.kernel.comms.open(id);\n",
              "      // Send a message to notify the kernel that we're ready.\n",
              "      channel.send({})\n",
              "\n",
              "      for await (const message of channel.messages) {\n",
              "        // Send a message to notify the kernel that we're ready.\n",
              "        channel.send({})\n",
              "        if (message.buffers) {\n",
              "          for (const buffer of message.buffers) {\n",
              "            buffers.push(buffer);\n",
              "            downloaded += buffer.byteLength;\n",
              "            progress.value = downloaded;\n",
              "          }\n",
              "        }\n",
              "      }\n",
              "      const blob = new Blob(buffers, {type: 'application/binary'});\n",
              "      const a = document.createElement('a');\n",
              "      a.href = window.URL.createObjectURL(blob);\n",
              "      a.download = filename;\n",
              "      div.appendChild(a);\n",
              "      a.click();\n",
              "      div.remove();\n",
              "    }\n",
              "  "
            ],
            "text/plain": [
              "<IPython.core.display.Javascript object>"
            ]
          },
          "metadata": {
            "tags": []
          }
        },
        {
          "output_type": "display_data",
          "data": {
            "application/javascript": [
              "download(\"download_94a2a874-987e-4716-ad26-58b92338320b\", \"new_VIA_annotations.csv\", 27889)"
            ],
            "text/plain": [
              "<IPython.core.display.Javascript object>"
            ]
          },
          "metadata": {
            "tags": []
          }
        }
      ]
    }
  ]
}