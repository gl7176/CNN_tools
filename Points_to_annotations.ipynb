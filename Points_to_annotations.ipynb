{
  "nbformat": 4,
  "nbformat_minor": 0,
  "metadata": {
    "colab": {
      "name": "Points_to_annotations",
      "provenance": [],
      "authorship_tag": "ABX9TyM8eFST05+AdVvUqxShPvms",
      "include_colab_link": true
    },
    "kernelspec": {
      "name": "python3",
      "display_name": "Python 3"
    },
    "language_info": {
      "name": "python"
    }
  },
  "cells": [
    {
      "cell_type": "markdown",
      "metadata": {
        "id": "view-in-github",
        "colab_type": "text"
      },
      "source": [
        "<a href=\"https://colab.research.google.com/github/gl7176/CNN_tools/blob/main/Points_to_annotations.ipynb\" target=\"_parent\"><img src=\"https://colab.research.google.com/assets/colab-badge.svg\" alt=\"Open In Colab\"/></a>"
      ]
    },
    {
      "cell_type": "markdown",
      "metadata": {
        "id": "_0SGgVrGEWZN"
      },
      "source": [
        "### Connect to our Google Drive folder and pull files\n",
        "Note: when you run this it will give you a link that you must click. You must give Google some permissions, then copy a code into a box that comes up in the output section of this code.\n",
        "\n",
        "If customizing this code, you will need to point the `drive_folder` variable to a URL for your shared google drive folder."
      ]
    },
    {
      "cell_type": "code",
      "metadata": {
        "id": "SYEIuuoGpkZm",
        "colab": {
          "base_uri": "https://localhost:8080/"
        },
        "outputId": "f8227a35-51e4-41a5-d90a-5143b05615ff"
      },
      "source": [
        "# set variable to the destination google drive folder you want to pull from\n",
        "drive_folder = 'https://drive.google.com/drive/folders/1Dav7-r1nxziYVE0ouKaG2xHzr-da9-WF'\n",
        "\n",
        "!pip install -U -q PyDrive\n",
        "import os, csv\n",
        "from pydrive.auth import GoogleAuth\n",
        "from pydrive.drive import GoogleDrive\n",
        "from google.colab import auth\n",
        "from oauth2client.client import GoogleCredentials\n",
        "\n",
        "# 1. Authenticate and create the PyDrive client.\n",
        "auth.authenticate_user()\n",
        "gauth = GoogleAuth()\n",
        "gauth.credentials = GoogleCredentials.get_application_default()\n",
        "drive = GoogleDrive(gauth)\n",
        "\n",
        "# choose a local (colab) directory to store the data.\n",
        "local_download_path = os.path.expanduser('data')\n",
        "try:\n",
        "  os.makedirs(local_download_path)\n",
        "except: pass\n",
        "\n",
        "# 2. Auto-iterate using the query syntax\n",
        "#    https://developers.google.com/drive/v2/web/search-parameters\n",
        "\n",
        "# this bit points the code to that google drive folder\n",
        "pointer = str(\"'\" + drive_folder.split(\"/\")[-1] + \"'\" + \" in parents\")\n",
        "\n",
        "file_list = drive.ListFile(\n",
        "    {'q': pointer}).GetList()\n",
        "\n",
        "#    this bit pulls key files from the directory specified above\n",
        "#    and checks that all necessary files are present\n",
        "\n",
        "\n",
        "for f in file_list:\n",
        "  # 3. Create & download by id.\n",
        "  fname = os.path.join(local_download_path, f['title'])\n",
        "  f_ = drive.CreateFile({'id': f['id']})\n",
        "  f_.GetContentFile(fname)\n",
        "  print(\"Pulled file: \" + fname)\n",
        "  if fname.endswith(\".shp\"):\n",
        "    ptfile = fname\n",
        "  if fname.endswith(\".json\"):\n",
        "    tiling_scheme_file = fname"
      ],
      "execution_count": 42,
      "outputs": [
        {
          "output_type": "stream",
          "text": [
            "Pulled file: data/Copy of tiling_scheme.json\n",
            "Pulled file: data/Jbn01_3_03_20_L1A_Seals.shp\n",
            "Pulled file: data/Jbn01_3_03_20_L1A_Seals.cpg\n",
            "Pulled file: data/Jbn01_3_03_20_L1A_Seals.sbn\n",
            "Pulled file: data/Jbn01_3_03_20_L1A_Seals.dbf\n",
            "Pulled file: data/Jbn01_3_03_20_L1A_Seals.shx\n",
            "Pulled file: data/Jbn01_3_03_20_L1A_Seals.sbx\n",
            "Pulled file: data/Jbn01_3_03_20_L1A_Seals.prj\n",
            "Pulled file: data/Jbn01_3_03_20_L1A_Seals.shp.xml\n"
          ],
          "name": "stdout"
        }
      ]
    },
    {
      "cell_type": "code",
      "metadata": {
        "colab": {
          "base_uri": "https://localhost:8080/"
        },
        "id": "OK5W5lw1_tOJ",
        "outputId": "a436829b-31b7-40f3-8a71-274e9e90f3af"
      },
      "source": [
        "!pip install geopandas\n",
        "!pip install affine"
      ],
      "execution_count": 49,
      "outputs": [
        {
          "output_type": "stream",
          "text": [
            "Requirement already satisfied: geopandas in /usr/local/lib/python3.7/dist-packages (0.9.0)\n",
            "Requirement already satisfied: shapely>=1.6 in /usr/local/lib/python3.7/dist-packages (from geopandas) (1.7.1)\n",
            "Requirement already satisfied: pyproj>=2.2.0 in /usr/local/lib/python3.7/dist-packages (from geopandas) (3.0.1)\n",
            "Requirement already satisfied: pandas>=0.24.0 in /usr/local/lib/python3.7/dist-packages (from geopandas) (1.1.5)\n",
            "Requirement already satisfied: fiona>=1.8 in /usr/local/lib/python3.7/dist-packages (from geopandas) (1.8.19)\n",
            "Requirement already satisfied: certifi in /usr/local/lib/python3.7/dist-packages (from pyproj>=2.2.0->geopandas) (2020.12.5)\n",
            "Requirement already satisfied: python-dateutil>=2.7.3 in /usr/local/lib/python3.7/dist-packages (from pandas>=0.24.0->geopandas) (2.8.1)\n",
            "Requirement already satisfied: numpy>=1.15.4 in /usr/local/lib/python3.7/dist-packages (from pandas>=0.24.0->geopandas) (1.19.5)\n",
            "Requirement already satisfied: pytz>=2017.2 in /usr/local/lib/python3.7/dist-packages (from pandas>=0.24.0->geopandas) (2018.9)\n",
            "Requirement already satisfied: cligj>=0.5 in /usr/local/lib/python3.7/dist-packages (from fiona>=1.8->geopandas) (0.7.1)\n",
            "Requirement already satisfied: click-plugins>=1.0 in /usr/local/lib/python3.7/dist-packages (from fiona>=1.8->geopandas) (1.1.1)\n",
            "Requirement already satisfied: six>=1.7 in /usr/local/lib/python3.7/dist-packages (from fiona>=1.8->geopandas) (1.15.0)\n",
            "Requirement already satisfied: munch in /usr/local/lib/python3.7/dist-packages (from fiona>=1.8->geopandas) (2.5.0)\n",
            "Requirement already satisfied: attrs>=17 in /usr/local/lib/python3.7/dist-packages (from fiona>=1.8->geopandas) (20.3.0)\n",
            "Requirement already satisfied: click<8,>=4.0 in /usr/local/lib/python3.7/dist-packages (from fiona>=1.8->geopandas) (7.1.2)\n",
            "Collecting affine\n",
            "  Downloading https://files.pythonhosted.org/packages/ac/a6/1a39a1ede71210e3ddaf623982b06ecfc5c5c03741ae659073159184cd3e/affine-2.3.0-py2.py3-none-any.whl\n",
            "Installing collected packages: affine\n",
            "Successfully installed affine-2.3.0\n"
          ],
          "name": "stdout"
        }
      ]
    },
    {
      "cell_type": "code",
      "metadata": {
        "colab": {
          "base_uri": "https://localhost:8080/"
        },
        "id": "MVrDJ_Zj_c4a",
        "outputId": "cafad691-bb35-42db-8ba7-e5e7326b1f76"
      },
      "source": [
        "import fiona\n",
        "with fiona.open(ptfile) as c:\n",
        "    for i, record in enumerate(c):\n",
        "        #print(record[\"geometry\"][\"coordinates\"])\n",
        "        pt = ogr.Geometry(ogr.wkbPoint) \n",
        "        pt.SetPoint_2D(0, record[\"geometry\"][\"coordinates\"][0], record[\"geometry\"][\"coordinates\"][1])\n",
        "        buff = pt.Buffer(1.5)\n",
        "        box = buff.GetEnvelope()\n",
        "        print(\"Envelope: \" + str(box))"
      ],
      "execution_count": 54,
      "outputs": [
        {
          "output_type": "stream",
          "text": [
            "(435301.04430918256, 2814678.788138528)\n",
            "(435304.2175890229, 2814677.647183979)\n",
            "(435308.8170620499, 2814682.674514962)\n",
            "(435309.6727779618, 2814683.9937436595)\n",
            "(435304.57268374355, 2814684.9343534363)\n",
            "(435321.8068295942, 2814679.9019954093)\n",
            "(435314.7329113884, 2814680.335558138)\n",
            "(435323.0390605075, 2814685.492672701)\n",
            "(435339.46332943585, 2814688.548605365)\n",
            "(435338.16355401324, 2814695.9821524452)\n",
            "(435327.74977660296, 2814703.853483786)\n",
            "(435289.1712509039, 2814692.4439382926)\n",
            "(435264.473874633, 2814699.6535955505)\n",
            "(435271.24272120267, 2814703.5080776257)\n",
            "(435268.5477174759, 2814703.288716857)\n",
            "(435344.97973761125, 2814651.862669075)\n",
            "(435349.4924530922, 2814646.4235020713)\n",
            "(435241.6953356113, 2814681.6025100877)\n",
            "(435230.48826074146, 2814692.566765003)\n",
            "(435236.49525287165, 2814691.0127172875)\n",
            "(435241.21716708347, 2814692.925391399)\n",
            "(435238.43781251577, 2814694.3300114493)\n",
            "(435244.6540033769, 2814691.4908858156)\n",
            "(435245.1919429706, 2814690.116151298)\n",
            "(435237.21250566334, 2814698.1852452043)\n",
            "(435240.5297998248, 2814697.5576490117)\n",
            "(435244.44480464596, 2814697.8266188083)\n",
            "(435243.3390399255, 2814699.410552057)\n",
            "(435247.46324347757, 2814699.14158226)\n",
            "(435252.2449287554, 2814700.0381482495)\n",
            "(435250.5414533752, 2814695.4058906366)\n",
            "(435235.4396958466, 2814702.2771723806)\n",
            "(435238.32783375436, 2814702.8318478726)\n",
            "(435235.6309632577, 2814704.8592824303)\n",
            "(435233.50789499434, 2814707.364885516)\n",
            "(435247.06875444215, 2814702.5640734974)\n",
            "(435245.550091198, 2814709.6815164)\n",
            "(435230.7261017672, 2814706.804854537)\n",
            "(435228.55942453415, 2814703.891469331)\n",
            "(435226.2336128151, 2814707.086400166)\n",
            "(435228.03305661876, 2814697.905564433)\n",
            "(435224.9850191553, 2814699.0562291783)\n",
            "(435224.69123241183, 2814695.689922743)\n",
            "(435217.028294853, 2814695.775610543)\n",
            "(435222.0838750635, 2814696.2407728867)\n",
            "(435221.2269970617, 2814700.610850696)\n",
            "(435215.0207521061, 2814698.1259044902)\n",
            "(435202.4257452675, 2814698.513986067)\n",
            "(435201.55906481086, 2814704.2520084)\n",
            "(435185.4997748054, 2814709.1627991805)\n",
            "(435179.8573861776, 2814703.3100164)\n",
            "(435176.5675867065, 2814702.9083548374)\n",
            "(435216.2938279944, 2814731.34981887)\n",
            "(435221.36241438886, 2814733.3581266864)\n",
            "(435229.0131108333, 2814733.511140615)\n",
            "(435191.15889933164, 2814728.997229713)\n",
            "(435178.28899340646, 2814720.313689248)\n",
            "(435162.8572995937, 2814711.036024388)\n",
            "(435148.6739125397, 2814712.594901606)\n",
            "(435138.44034097553, 2814707.857590367)\n",
            "(435140.15409697907, 2814707.7106969957)\n",
            "(435129.29584605026, 2814716.9832454524)\n",
            "(435139.18795746873, 2814723.9166891053)\n",
            "(435096.51141636446, 2814721.5557319988)\n",
            "(435094.90016630467, 2814713.4419867164)\n",
            "(435084.4021866715, 2814714.0295602046)\n",
            "(435074.9461706885, 2814712.564543644)\n",
            "(435065.6898684855, 2814716.7369886627)\n",
            "(435059.9327194109, 2814717.7315792)\n",
            "(435023.77782322373, 2814715.5082868156)\n",
            "(435027.65825646033, 2814710.8199400348)\n",
            "(435029.50666472135, 2814714.688132157)\n",
            "(435032.2609154413, 2814715.900002474)\n",
            "(435031.86919978337, 2814712.85196501)\n",
            "(435035.5317411853, 2814710.840994751)\n",
            "(435030.0697559799, 2814721.6655673147)\n",
            "(434994.9813362745, 2814725.538166242)\n",
            "(435026.4417957266, 2814708.7611376275)\n",
            "(434953.6974437941, 2814699.227604792)\n",
            "(434973.5922191952, 2814620.034576464)\n",
            "(434999.7852391765, 2814565.248608663)\n",
            "(434995.1825801955, 2814566.6318545802)\n",
            "(434995.04792793805, 2814569.2392119286)\n",
            "(435000.09126703424, 2814570.0348843588)\n",
            "(435022.3578539662, 2814566.803230181)\n",
            "(435024.5979778851, 2814563.7184693743)\n",
            "(434975.69855156064, 2814536.716101345)\n",
            "(435191.713670461, 2814540.4970755284)\n",
            "(435190.6242112873, 2814539.5667508407)\n",
            "(435177.4160489457, 2814548.2212186586)\n",
            "(435231.58297977236, 2814551.66097178)\n",
            "(435226.20147989324, 2814580.0764234434)\n",
            "(435199.13714122114, 2814581.8360836254)\n",
            "(435238.7067823161, 2814588.8041944974)\n",
            "(435252.66332622065, 2814590.8961818065)\n",
            "(435252.0656155609, 2814593.197367846)\n",
            "(435252.8127538856, 2814586.4432373913)\n",
            "(435254.42657266685, 2814579.0615107436)\n",
            "(435229.91206766886, 2814601.307106077)\n",
            "(435225.9910857411, 2814600.4081492447)\n",
            "(435239.8090085894, 2814605.3749813773)\n",
            "(435340.36899758567, 2814567.2423801576)\n",
            "(435339.4700407535, 2814566.3242965844)\n",
            "(435388.55078858405, 2814542.9820217337)\n",
            "(435385.1232765769, 2814548.7720688027)\n",
            "(435378.8435849353, 2814540.4725933)\n",
            "(435330.4613456909, 2814535.7597642927)\n",
            "(435082.11973910435, 2814412.9660863634)\n",
            "(435063.79632111994, 2814411.378566852)\n",
            "(434823.77484691684, 2814494.7902848413)\n",
            "(434774.2937610813, 2814506.2476433986)\n",
            "(434806.96320654976, 2814526.738063055)\n",
            "(434817.565480477, 2814535.0076702386)\n",
            "(434825.386083588, 2814551.269256134)\n",
            "Envelope: (434823.886083588, 434826.886083588, 2814549.769256134, 2814552.769256134)\n"
          ],
          "name": "stdout"
        }
      ]
    },
    {
      "cell_type": "code",
      "metadata": {
        "id": "XRw48JUAE4qU"
      },
      "source": [
        "import json\n",
        "with open(tiling_scheme_file) as f:\n",
        "    tiling_scheme = json.load(f)\n",
        "    proj = tiling_scheme[\"spatial_reference\"]\n",
        "    gt = tiling_scheme[\"transform\"]\n",
        "\n",
        "from affine import Affine\n",
        "\n",
        "geotransform = (gt[2], gt[0], gt[1], gt[5], gt[3], gt[4])\n",
        "geotransform = Affine.from_gdal(*geotransform)\n",
        "\n",
        "# define function to transform coordinates from orthomosaic/pixel reference to global reference\n",
        "def global_transform(box):\n",
        "    bounding_box = np.array([[box['box'][0], box['box'][1]], [box['box'][2], box['box'][1]], [box['box'][2], box['box'][3]], [box['box'][0], box['box'][3]]]).astype(float)\n",
        "    count = 0\n",
        "    for point in bounding_box:\n",
        "      point = geotransform * point\n",
        "      bounding_box[count] = point\n",
        "      count += 1\n",
        "    box['box'] = bounding_box\n",
        "    print(box_list[0:3])"
      ],
      "execution_count": 50,
      "outputs": []
    },
    {
      "cell_type": "code",
      "metadata": {
        "id": "J-gU5z9S_xVx"
      },
      "source": [
        "from osgeo import ogr, osr\n",
        "\n",
        "print(pts[1])"
      ],
      "execution_count": null,
      "outputs": []
    },
    {
      "cell_type": "code",
      "metadata": {
        "colab": {
          "base_uri": "https://localhost:8080/"
        },
        "id": "F9rk5khTOwn6",
        "outputId": "4d027fc5-71a2-4785-870a-01289946ff44"
      },
      "source": [
        "from osgeo import ogr, osr\n",
        "\n",
        "# EPSG:4326 : WGS84 lat/lon : http://spatialreference.org/ref/epsg/4326/\n",
        "wgs = osr.SpatialReference()\n",
        "wgs.ImportFromEPSG(4326)    \n",
        "coord_trans_cache = {}\n",
        "def utm_zone(lat, lon):\n",
        "    \"\"\"Args for osr.SpatialReference.SetUTM(int zone, int north = 1)\"\"\"\n",
        "    return int(round(((float(lon) - 180)%360)/6)), int(lat > 0)\n",
        "\n",
        "# Your data from a text file, i.e., fp.readlines()\n",
        "lines = ['-43.1234,40.1234\\n', '-43.1244,40.1244\\n']\n",
        "for line in lines:\n",
        "    lat, lon = [float(x) for x in line.split(',')]\n",
        "    # Get projections sorted out for that UTM zone\n",
        "    cur_utm_zone = utm_zone(lat, lon)\n",
        "    if cur_utm_zone in coord_trans_cache:\n",
        "        wgs2utm, utm2wgs = coord_trans_cache[cur_utm_zone]\n",
        "    else: # define new UTM Zone\n",
        "        utm = osr.SpatialReference()\n",
        "        utm.SetUTM(*cur_utm_zone)\n",
        "        # Define spatial transformations to/from UTM and lat/lon\n",
        "        wgs2utm = osr.CoordinateTransformation(wgs, utm)\n",
        "        utm2wgs = osr.CoordinateTransformation(utm, wgs)\n",
        "        coord_trans_cache[cur_utm_zone] = wgs2utm, utm2wgs\n",
        "    # Create 2D point\n",
        "    pt = ogr.Geometry(ogr.wkbPoint)\n",
        "    pt.SetPoint_2D(0, lon, lat) # X, Y; in that order!\n",
        "    orig_wkt = pt.ExportToWkt()\n",
        "    # Project to UTM\n",
        "    res = pt.Transform(wgs2utm)\n",
        "    if res != 0:\n",
        "        print(\"spatial transform failed with code \" + str(res))\n",
        "    print(orig_wkt + \" -> \" + pt.ExportToWkt())\n",
        "    # Compute a 15 m buffer\n",
        "    buff = pt.Buffer(15)\n",
        "    # Transform UTM buffer back to lat/long\n",
        "    res = buff.Transform(utm2wgs)\n",
        "    if res != 0:\n",
        "        print(\"spatial transform failed with code \" + str(res))\n",
        "    print(\"Envelope: \" + str(buff.GetEnvelope()))\n",
        "    # print(\"WKT: \" + buff.ExportToWkt())"
      ],
      "execution_count": 3,
      "outputs": [
        {
          "output_type": "stream",
          "text": [
            "POINT (40.1234 -43.1234) -> POINT (591383.421820465 5224869.25719953)\n",
            "Area: 0.0007065354092777124 km^2\n",
            "Envelope: (40.123215635834605, 40.12358436414829, -43.12353504742207, -43.1232649525746)\n",
            "POINT (40.1244 -43.1244) -> POINT (591463.277979514 5224757.11415603)\n",
            "Area: 0.0007065354092740745 km^2\n",
            "Envelope: (40.12421563289496, 40.12458436708794, -43.12453504735205, -43.12426495264462)\n"
          ],
          "name": "stdout"
        }
      ]
    }
  ]
}